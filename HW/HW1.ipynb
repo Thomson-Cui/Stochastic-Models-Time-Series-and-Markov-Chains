{
 "cells": [
  {
   "cell_type": "markdown",
   "metadata": {},
   "source": [
    "# $$HW1$$"
   ]
  },
  {
   "cell_type": "markdown",
   "metadata": {},
   "source": [
    "**1.2.** Five white balls and five black balls are distributed in two urns in such a way that each urn contains five balls. At each step we draw one ball from each urn and exchange them. Let $X_n$ be the number of white balls in the left urn at time $n$. Compute the transition probability for $X_n$. "
   ]
  },
  {
   "cell_type": "markdown",
   "metadata": {},
   "source": [
    "Let $X_n=k$, which is the number of white balls, thus we can get:\n",
    "\n",
    "Left white = $k$, Left black = $5-k$\n",
    "\n",
    "Right white = $5-k$, Right black = $k$\n",
    "\n",
    "where $k\\in\\{0,1,2,3,4,5\\}$\n",
    "\n",
    "$X_{n+1}=k-1,k$ or $k+1$\n",
    "\n",
    "There are 3 cases in the following:\n",
    "\n",
    "$P(k,k-1)=\\frac{k}{5}\\cdot\\frac{k}{5}=\\frac{k^2}{25}$\n",
    "\n",
    "$P(k,k)=\\frac{k}{5}\\cdot\\frac{5-k}{5}+\\frac{5-k}{5}\\cdot\\frac{k}{5}=\\frac{2k(5-k)}{25}$\n",
    "\n",
    "$P(k,k+1)=\\frac{5-k}{5}\\cdot\\frac{5-k}{5}=\\frac{(5-k)^2}{25}$"
   ]
  },
  {
   "cell_type": "markdown",
   "metadata": {},
   "source": [
    "**1.3.** We repeated roll two four sided dice with numbers 1, 2, 3, and 4 on them.\n",
    "Let $Y_k$ be the sum on the $k$-th roll, $S_n = Y_1 + \\cdots + Y_n$ be the total of the first $n$ rolls, and $X_n = S_n \\pmod 6$. Find the transition probability for $X_n$."
   ]
  },
  {
   "cell_type": "markdown",
   "metadata": {},
   "source": [
    "Since the $X_n=S_n \\pmod 6$, we can get $X_n\\in\\{0,1,2,3,4,5\\}$.\n",
    "\n",
    "$Y_{n+1}\\in\\{2,3,4,5,6,7,8\\}$\n",
    "\n",
    "- $P(Y_{n+1}=2)=\\frac{1}{16}$\n",
    "- $P(Y_{n+1}=3)=\\frac{2}{16}$\n",
    "- $P(Y_{n+1}=4)=\\frac{3}{16}$\n",
    "- $P(Y_{n+1}=5)=\\frac{4}{16}$\n",
    "- $P(Y_{n+1}=6)=\\frac{3}{16}$\n",
    "- $P(Y_{n+1}=7)=\\frac{2}{16}$\n",
    "- $P(Y_{n+1}=8)=\\frac{1}{16}$\n",
    "\n",
    "$[Y_{n+1} \\pmod 6] \\in\\{0,1,2,3,4,5\\}$\n",
    "\n",
    "- $P([Y_{n+1} \\pmod 6]=0)=P(Y_{n+1}=6)=\\frac{3}{16}$\n",
    "- $P([Y_{n+1} \\pmod 6]=1)=P(Y_{n+1}=7)=\\frac{2}{16}$\n",
    "- $P([Y_{n+1} \\pmod 6]=2)=P(Y_{n+1}=2)+P(Y_{n+1}=8)=\\frac{2}{16}$\n",
    "- $P([Y_{n+1} \\pmod 6]=3)=P(Y_{n+1}=3)=\\frac{2}{16}$\n",
    "- $P([Y_{n+1} \\pmod 6]=4)=P(Y_{n+1}=4)=\\frac{3}{16}$\n",
    "- $P([Y_{n+1} \\pmod 6]=5)=P(Y_{n+1}=5)=\\frac{4}{16}$\n",
    "\n",
    "$X_{n+1}=[X_n \\pmod 6 + Y_{n+1} \\pmod 6]\\pmod 6$\n",
    "\n",
    "$X_{n+1}\\in\\{0,1,2,3,4,5\\}$\n",
    "\n",
    "$p(i,j)=\\begin{bmatrix}\n",
    "3/16 & 2/16 & 2/16 & 2/16 & 3/16 & 4/16 \\\\\n",
    "4/16 & 3/16 & 2/16 & 2/16 & 2/16 & 3/16 \\\\\n",
    "3/16 & 4/16 & 3/16 & 2/16 & 2/16 & 2/16 \\\\\n",
    "2/16 & 3/16 & 4/16 & 3/16 & 2/16 & 2/16 \\\\\n",
    "2/16 & 2/16 & 3/16 & 4/16 & 3/16 & 2/16 \\\\\n",
    "2/16 & 2/16 & 2/16 & 3/16 & 4/16 & 3/16 \n",
    "\\end{bmatrix}$"
   ]
  },
  {
   "cell_type": "markdown",
   "metadata": {},
   "source": [
    "**1.5.** Consider a gambler's ruin chain with $N=4$. That is, if $1 \\le i \\le 3$, $p(i, i+1) = 0.4$, and $p(i, i-1) = 0.6$, but the endpoints are absorbing states: $p(0, 0) = 1$ and $p(4, 4) = 1$. Compute $p^3(1, 4)$ and $p^3(1, 0)$."
   ]
  },
  {
   "cell_type": "markdown",
   "metadata": {},
   "source": [
    "$p^3(1,4)=p(1,2)p(2,3)p(3,4)=0.4^3=0.064$\n",
    "\n",
    "$p^3(1,0)=p(1,0)p(0,0)p(0,0)+p(1,2)p(2,1)p(1,0)=0.744$"
   ]
  },
  {
   "cell_type": "markdown",
   "metadata": {},
   "source": [
    "**1.6.** A taxicab driver moves between the airport $A$ and two hotels $B$ and $C$ according to the following rules. If he is at the airport, he will be at one of the two hotels next with equal probability. If at a hotel then he returns to the airport with probability 3/4 and goes to the other hotel with probability 1/4.\n",
    "\n",
    "(a) Find the transition matrix for the chain. \n",
    "\n",
    "(b) Suppose the driver begins at the airport at time 0. Find the probability for each of his three possible locations at time 2 and the probability he is at hotel B at time 3."
   ]
  },
  {
   "cell_type": "markdown",
   "metadata": {},
   "source": [
    "(a):\n",
    "\n",
    "$\n",
    "p_{i,j} =\n",
    "\\begin{bmatrix}\n",
    "0 & 0.5 & 0.5 \\\\\n",
    "0.75 & 0 & 0.25 \\\\\n",
    "0.75 & 0.25 & 0\n",
    "\\end{bmatrix}\n",
    "$\n",
    "\n",
    "$i,j\\in\\{A,B,C\\}$"
   ]
  },
  {
   "cell_type": "markdown",
   "metadata": {},
   "source": [
    "(b):\n",
    "\n",
    "$p^2(A,\\text{3 possible locations})=\\begin{cases}\n",
    "                                    &p^2(A,A)=p(A,B)p(B,A)+p(A,C)p(C,A)=0.5\\cdot 0.75\\cdot 2=0.75\\\\\n",
    "                                    &p^2(A,B)=p(A,C)p(C,B)=0.5\\cdot 0.25=0.125\\\\\n",
    "                                    &p^2(A,C)=p(A,B)p(B,A)=0.5\\cdot 0.25=0.125    \n",
    "                                    \\end{cases}$\n",
    "\n",
    "$\\begin{aligned}\n",
    "p^3(A, B)&=p^2(A,A)\\cdot p(A,B)+p^2(A,B)\\cdot p(B,B)+p^2(A,C)\\cdot p(C,B)\\\\\n",
    "         &=0.75\\cdot 0.5+0.125\\cdot 0+0.125\\cdot0.25\\\\\n",
    "         &=0.40625\n",
    "\\end{aligned}$"
   ]
  },
  {
   "cell_type": "markdown",
   "metadata": {},
   "source": [
    "**1.7.** Suppose that the probability it rains today is 0.3 if neither of the last two days was rainy, but 0.6 if at least one of the last two days was rainy. Let the weather on day n, $W_n$, be R for rain, or S for sun. $W_n$ is not a Markov chain, but the weather for the last two days $X_n = (W_{n-1}, W_n)$ is a Markov chain with four states {RR, RS, SR, SS}. \n",
    "\n",
    "(a) Compute its transition probability. \n",
    "\n",
    "(b) Compute the two-step transition probability. \n",
    "\n",
    "(c) What is the probability it will rain on Wednesday given that it did not rain on Sunday or Monday."
   ]
  },
  {
   "cell_type": "markdown",
   "metadata": {},
   "source": [
    "(a):\n",
    "\n",
    "- $p(SS,SR)=0.3$\n",
    "- $p(SS,SS)=0.7$\n",
    "- $p(RR,RR)=0.6$\n",
    "- $p(RS,SR)=0.6$\n",
    "- $p(SR,RR)=0.6$\n",
    "- $p(RR,RS)=0.4$\n",
    "- $p(RS,SS)=0.4$\n",
    "- $p(SR,RS)=0.4$\n",
    "- $p(otherwise)=0$\n",
    "\n",
    "$X_n\\in\\{RR, RS, SR, SS\\}$\n",
    "\n",
    "$X_{n+1}\\in\\{RR, RS, SR, SS\\}$\n",
    "\n",
    "$p(X_n,X_{n+1})=\\begin{bmatrix}\n",
    "0.6 & 0.4 & 0 & 0 \\\\\n",
    "0 & 0 & 0.6 & 0.4 \\\\\n",
    "0.6 & 0.4 & 0 & 0 \\\\\n",
    "0 & 0 & 0.3 & 0.7\n",
    "\\end{bmatrix}$"
   ]
  },
  {
   "cell_type": "markdown",
   "metadata": {},
   "source": [
    "(b):\n",
    "\n",
    "$p^2(X_{n-1},X_{n+1})=\n",
    "\\begin{bmatrix}\n",
    "0.6 & 0.4 & 0 & 0 \\\\\n",
    "0 & 0 & 0.6 & 0.4 \\\\\n",
    "0.6 & 0.4 & 0 & 0 \\\\\n",
    "0 & 0 & 0.3 & 0.7\n",
    "\\end{bmatrix}\\cdot\n",
    "\\begin{bmatrix}\n",
    "0.6 & 0.4 & 0 & 0 \\\\\n",
    "0 & 0 & 0.6 & 0.4 \\\\\n",
    "0.6 & 0.4 & 0 & 0 \\\\\n",
    "0 & 0 & 0.3 & 0.7\n",
    "\\end{bmatrix}=\\begin{bmatrix}\n",
    "\\frac{9}{25} & \\frac{6}{25} & \\frac{6}{25} & \\frac{4}{25} \\\\\n",
    "\\frac{9}{25} & \\frac{6}{25} & \\frac{3}{25} & \\frac{7}{25} \\\\\n",
    "\\frac{9}{25} & \\frac{6}{25} & \\frac{6}{25} & \\frac{4}{25} \\\\\n",
    "\\frac{9}{50} & \\frac{3}{25} & \\frac{21}{100} & \\frac{49}{100} \n",
    "\\end{bmatrix}$\n",
    "\n"
   ]
  },
  {
   "cell_type": "markdown",
   "metadata": {},
   "source": [
    "(c):\n",
    "\n",
    "\n",
    "$X_{n-1}\\in\\{RR, RS, SR, SS\\}$\n",
    "\n",
    "$X_{n+1}\\in\\{RR, RS, SR, SS\\}$\n",
    "\n",
    "$X_{n-1}=SS$\n",
    "\n",
    "$X_{n+1}=RR\\text{ or }SR$\n",
    "\n",
    "\n",
    "$p^2(X_{n-1}=SS,X_{n+1}=SR,RR)=\\frac{9}{50}+\\frac{21}{100}=0.39$"
   ]
  },
  {
   "cell_type": "markdown",
   "metadata": {},
   "source": [
    "**Additional problem 1:** \n",
    "\n",
    "Let us consider the Wright-Fisher model with mutation where the mutation rates $u, v \\in (0, 1)$. Recall that we have a population of fixed size $N$ where each individual is either type $a$ or type $A$. Given the current generation, we generate the next generation by the following. For each of the $i = 1, ..., N$ individuals in the next generation\n",
    "\n",
    "- Choose a parent uniformly at random from the current generation.\n",
    "\n",
    "- If the chosen parent is type A:\n",
    "\n",
    "  - With probability $1-u$ the individual is type A\n",
    "\n",
    "  - With probability $u$ the individual is type a\n",
    "\n",
    "- If the chosen parent is type a:\n",
    "\n",
    "  - With probability $v$ the individual is type A\n",
    "\n",
    "  - With probability $1-v$ the individual is type a\n",
    "\n",
    "Let $X_n$ be the number of type A individuals in generation $n$. Then as we saw in class, $X_n$ is a Markov chain. An open question was whether this Markov chain moves to and stays around some equilibrium value. We will begin investigating this question here.\n",
    "\n",
    "(a) Characterize the transitions of this Markov chain by finding the distribution of $X_{n+1} | X_n$.\n",
    "\n",
    "(b) Find $E(X_{n+1} | X_n)$.\n",
    "\n",
    "(c) Show that the mean has a fixed point. That is, there is some value $x^*$ (not necessarily an integer) such that\n",
    "$$E(X_{n+1} | X_n = x^*) = x^*$$\n",
    "Thus, there is some equilibrium value $x^*$ in the sense that if we start the chain from it on average remains at $x^*$.\n",
    "\n",
    "(d) What if we start the chain somewhere other than $x^*$? We could ask whether on average, the Markov chain tends to move toward this fixed point. That is, is it true that when $x > x^*$\n",
    "$$E(X_{n+1} | X_n = x) \\in (x^*, x)$$\n",
    "and when $x < x^*$\n",
    "$$E(X_{n+1} | X_n = x) \\in (x, x^*)$$\n",
    "\n",
    "Is this true? Justify your answer.\n",
    "\n",
    "(e) Even if $E(X_{n+1} | X_n = x^*) = x^*$, this does not guarantee $X_{n+1} = x^*$ and in fact we should expect some variation. We can characterize the variation by computing the variance. Find\n",
    "$$V(X_{n+1} | X_n = x^*)$$"
   ]
  },
  {
   "cell_type": "markdown",
   "metadata": {},
   "source": [
    "(a):\n",
    "\n",
    "Let $X_n=k$ be the number of type $A$ individuals in generation $n$, thus the number of type $a$ individuals in generation $n$ is $N-k$, where $k\\in\\{1,2,3,...,N\\}$.\n",
    "\n",
    "| | A | a |\n",
    "|:---:|:---:|:---:|\n",
    "| **A** | (1-u) | u |\n",
    "| **a** | v | (1-v) |\n",
    "\n",
    "\n",
    "\n",
    "$P(X_{n+1}|X_n=k)=\\frac{(1-u)k+v(N-k)}{N}$\n",
    "\n",
    "$X_{n+1}|X_n=k\\sim Binomial(N,\\frac{(1-u)k+v(N-k)}{N})$\n"
   ]
  },
  {
   "cell_type": "markdown",
   "metadata": {},
   "source": [
    "(b):\n",
    "\n",
    "Let $X_n=k,k\\in\\{1,2,3,...,N\\}$\n",
    "\n",
    "$E(X_{n+1} | X_n)=np=(1-u)k+v(N-k)$"
   ]
  },
  {
   "cell_type": "markdown",
   "metadata": {},
   "source": [
    "(c):\n",
    "\n",
    "$(1-u)x^*+v(N-x^*)=x^*$\n",
    "\n",
    "$x^*=\\frac{vN}{u+v}$"
   ]
  },
  {
   "cell_type": "markdown",
   "metadata": {},
   "source": [
    "(d):\n",
    "\n",
    "$E(X_{n+1} | X_n=x)=np=(1-u)x+v(N-x)=(1-u-v)x+vN$\n",
    "\n",
    "Case 1: $x>x^*$\n",
    "\n",
    "$\\begin{aligned}\n",
    "x-E(X_{n+1} | X_n=x)&=x-(1-u-v)x-vN\\\\\n",
    "                    &=x(u+v)-vN\\\\\n",
    "                    &=(u+v)(x-\\frac{vN}{u+v})\\\\\n",
    "                    &=(u+v)(x-x^*)\\\\\n",
    "                    &>0,(\\text{ since }(u+v)>0,(x-x^*)>0)\n",
    "\\end{aligned}$\n",
    "\n",
    "Thus, $E(X_{n+1} | X_n=x)<x$\n",
    "\n",
    "$\\begin{aligned}\n",
    "x^*-E(X_{n+1} | X_n=x)&=x^*-(1-u-v)x-vN\\\\\n",
    "                      &=x^*-x+(u+v)x-vN\\\\\n",
    "                      &=-(x-x^*)+(u+v)(x-\\frac{vN}{v+u})\\\\\n",
    "                      &=-(x-x^*)+(u+v)(x-x^*)\\\\\n",
    "                      &=(x-x^*)(u+v-1)\n",
    "\\end{aligned}$\n",
    "\n",
    "Since $(x-x^*)>0$, only if $(u+v-1)<0$, then $x^*-E(X_{n+1} | X_n=x)<0$.\n",
    "\n",
    "Therefore, only if $u+v<1$, then $E(X_{n+1} | X_n = x) \\in (x^*, x)$ is true."
   ]
  },
  {
   "cell_type": "markdown",
   "metadata": {},
   "source": [
    "Case 2: $x<x^*$\n",
    "\n",
    "$\\begin{aligned}\n",
    "x-E(X_{n+1} | X_n=x)&=x-(1-u-v)x-vN\\\\\n",
    "                    &=x(u+v)-vN\\\\\n",
    "                    &=(u+v)(x-\\frac{vN}{u+v})\\\\\n",
    "                    &=(u+v)(x-x^*)\\\\\n",
    "                    &<0,(\\text{ since }(u+v)>0,(x-x^*)<0)\n",
    "\\end{aligned}$\n",
    "\n",
    "Thus, $E(X_{n+1} | X_n=x)>x$\n",
    "\n",
    "$\\begin{aligned}\n",
    "x^*-E(X_{n+1} | X_n=x)&=x^*-(1-u-v)x-vN\\\\\n",
    "                      &=x^*-x+(u+v)x-vN\\\\\n",
    "                      &=-(x-x^*)+(u+v)(x-\\frac{vN}{v+u})\\\\\n",
    "                      &=-(x-x^*)+(u+v)(x-x^*)\\\\\n",
    "                      &=(x-x^*)(u+v-1)\n",
    "\\end{aligned}$\n",
    "\n",
    "Since $(x-x^*)<0$, only if $(u+v-1)<0$, then $x^*-E(X_{n+1} | X_n=x)>0$.\n",
    "\n",
    "Therefore, only if $u+v<1$, then $E(X_{n+1} | X_n = x) \\in (x, x^*)$ is true."
   ]
  },
  {
   "cell_type": "markdown",
   "metadata": {},
   "source": [
    "Thus, for $u + v < 1$, the Markov chain tends toward the equilibrium $x^*$ over time.\n"
   ]
  },
  {
   "cell_type": "markdown",
   "metadata": {},
   "source": [
    "(e):\n",
    "\n",
    "$\\begin{aligned}\n",
    "V(X_{n+1} | X_n = x^*)&=N\\cdot\\frac{(1-u)x^*+v(N-x^*)}{N}(1-\\frac{(1-u)x^*+v(N-x^*)}{N})\\\\\n",
    "                       &=\\frac{Nv}{u+v}(1-\\frac{v}{u+v})\\\\\n",
    "                       &=\\frac{Nuv}{(u+v)^2}\n",
    "\\end{aligned}$"
   ]
  }
 ],
 "metadata": {
  "language_info": {
   "name": "python"
  }
 },
 "nbformat": 4,
 "nbformat_minor": 2
}

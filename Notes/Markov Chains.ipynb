{
 "cells": [
  {
   "cell_type": "markdown",
   "metadata": {},
   "source": [
    "# Markov Chains\n",
    "\n",
    "## 1.1 Definitions and Examples\n",
    "\n",
    "### Definition\n",
    "\n",
    "$X_{n}$ is a discrete time **Markov chain** with **transition matrix** $p(i,j)$ if for any $j,i,i_{n-1},\\ldots i_{0}$\n",
    "\n",
    "\n",
    "$P(X_{n+1}=j|X_{n}=i,X_{n-1}=i_{n-1},\\ldots,X_{0}=i_{0})=p(i,j)\\quad(1.1)$"
   ]
  },
  {
   "cell_type": "markdown",
   "metadata": {},
   "source": [
    "One more commonly describes a Markov chain by writing down a transition probability $p(i,j)$ with\n",
    "\n",
    "(i) $p(i,j) \\geq 0$, since they are probabilities.\n",
    "\n",
    "(ii) $\\sum_j p(i,j) = 1$, since when $X_n = i$, $X_{n+1}$ will be in some state $j$."
   ]
  },
  {
   "cell_type": "markdown",
   "metadata": {},
   "source": [
    "## 1.2 Multistep Transition Probabilities\n",
    "\n",
    "### Theorem 1.1.\n",
    "\n",
    "The $m$ step transition probability $P(X_{n+m}=j|X_n=i)$ is the $m$-th power of the transition matrix $p$.\n",
    "\n",
    "$p^m(i,j) = P(X_{n+m} = j | X_n = i)$"
   ]
  },
  {
   "cell_type": "markdown",
   "metadata": {},
   "source": [
    "### The Chapman–Kolmogorov equation:\n",
    "\n",
    "$p^{m+n}(i,j) = \\sum_k p^m(i,k) p^n(k,j)\\quad(1.2)$\n",
    "\n",
    "*Proof of (1.2):*\n",
    "\n",
    "Breaking things down according to the state at time m,"
   ]
  },
  {
   "cell_type": "markdown",
   "metadata": {},
   "source": [
    "$\\begin{aligned}\n",
    "p^{m+n}(i,j) \n",
    "&= P(X_{m+n}=j|X_0=i) \\\\\n",
    "&= \\sum_k P(X_{m+n}=j, X_m=k|X_0=i) \\\\\n",
    "&= \\sum_k \\frac{P(X_{m+n}=j, X_m=k, X_0=i)}{P(X_0=i)} \\\\\n",
    "&= \\sum_k \\frac{P(X_{m+n}=j, X_m=k, X_0=i)}{P(X_m=k, X_0=i)} \\cdot \\frac{P(X_m=k, X_0=i)}{P(X_0=i)} \\\\\n",
    "&= \\sum_k P(X_{m+n}=j|X_m=k, X_0=i) \\cdot P(X_m=k|X_0=i) \\\\\n",
    "&= \\sum_k P(X_{m+n}=j|X_m=k) \\cdot P(X_m=k|X_0=i) \\\\\n",
    "&= \\sum_k p^m(i,k) p^n(k,j)\n",
    "\\end{aligned}$"
   ]
  },
  {
   "cell_type": "markdown",
   "metadata": {},
   "source": [
    "## 1.3 Classification of States\n",
    "\n",
    "We are often interested in the behavior of the chain for a fixed initial state, so we will introduce the shorthand\n",
    "\n",
    "$P_x(A) = P(A | X_0 = x)$\n",
    "\n",
    "### Stopping Times\n",
    "\n",
    "The stopping time $ T_y $ represents the first return to state $ y $ after time 0, meaning the process must reach $ y $ for the first time at some $ n \\geq 1 $."
   ]
  },
  {
   "cell_type": "code",
   "execution_count": 2,
   "metadata": {},
   "outputs": [
    {
     "data": {
      "image/png": "[encoded data removed]",
      "text/plain": [
       "<Figure size 640x480 with 1 Axes>"
      ]
     },
     "metadata": {},
     "output_type": "display_data"
    }
   ],
   "source": [
    "import numpy as np\n",
    "import matplotlib.pyplot as plt\n",
    "\n",
    "def random_walk(y, steps=1000, num_sim=10000):\n",
    "    T_y_list = []\n",
    "    \n",
    "    for _ in range(num_sim):\n",
    "        x = y\n",
    "        t = 0\n",
    "        \n",
    "        while t < steps:\n",
    "            t += 1\n",
    "            if np.random.rand() < 0.5:\n",
    "                x -= 1 \n",
    "            else:\n",
    "                x += 1  \n",
    "\n",
    "            if x == y and t > 0:\n",
    "                T_y_list.append(t)\n",
    "                break\n",
    "    \n",
    "    return T_y_list\n",
    "\n",
    "y = 2\n",
    "num_sim = 10000\n",
    "T_y = random_walk(y, num_sim=num_sim)\n",
    "\n",
    "plt.hist(T_y, bins=30, density=True, alpha=0.7, color='blue', edgecolor='black')\n",
    "plt.title(f'Distribution of $T_y$ for y={y}')\n",
    "plt.xlabel('Steps')\n",
    "plt.ylabel('Probability Density')\n",
    "plt.grid(True)\n",
    "plt.show()\n"
   ]
  },
  {
   "cell_type": "markdown",
   "metadata": {},
   "source": [
    "### Theorem 1.2. Strong Markov property\n",
    "\n",
    "Suppose $T$ is a stopping time. Given that $ T = n $ and $ X_T = y $, any other information about $ X_0, \\ldots, X_T $ is irrelevant for predicting the future, and $ X_{T+k}, k \\geq 0 $ behaves like the Markov chain with initial state $ y $.\n",
    "\n",
    "$P(X_{T+1} = z | X_T = y, T = n) = p(y, z)$\n",
    "\n",
    "Let $ V_n $ be the set of vectors $(x_0, \\ldots, x_n)$ so that if $ X_0 = x_0, \\ldots, X_n = x_n $, then $ T = n $ and $ X_T = y $. Breaking things down according to the values of $ X_0, \\ldots, X_n $ gives\n",
    "\n",
    "$V_n = \\{ (x_0, x_1, \\dots, x_n) \\mid X_0 = x_0, X_1 = x_1, \\dots, X_n = x_n \\Rightarrow T = n, X_T = y\\}$\n",
    "\n",
    "$\\Rightarrow P(T = n, X_T = y) = \\sum_{x \\in V_n} P(X_n = x_n, \\dots, X_0 = x_0)$"
   ]
  },
  {
   "cell_type": "markdown",
   "metadata": {},
   "source": [
    "$\\begin{aligned}\n",
    "P(X_{T+1} = z, X_T = y, T = n) \n",
    "&= \\sum_{x \\in V_n} P(X_{n+1} = z, X_n = x_n, \\ldots, X_0 = x_0) \\\\\n",
    "&= \\sum_{x \\in V_n} P(X_{n+1} = z | X_n = x_n, \\ldots, X_0 = x_0) P(X_n = x_n, \\ldots, X_0 = x_0)\\\\\n",
    "&= p(y, z) \\sum_{x \\in V_n} P(X_n = x_n, \\ldots, X_0 = x_0) \\\\\n",
    "&= p(y, z) P(T = n, X_T = y)\n",
    "\\end{aligned}$"
   ]
  },
  {
   "cell_type": "markdown",
   "metadata": {},
   "source": [
    "Dividing both sides by $P(T = n, X_T = y)$ gives the desired result.\n",
    "\n",
    "Therefore, $P(X_{T+1} = z | X_T = y, T = n) = p(y, z)$."
   ]
  },
  {
   "cell_type": "markdown",
   "metadata": {},
   "source": [
    "Let $p_{yy}=P_y(T_y<\\infty)$ be the probability $X_n$ returns to $y$ when it starts at $y$, and $T_y = \\min\\{n \\geq 1 : X_n = y\\}$.\n",
    "- $p_{yy}=1$, if we don't exclude $n=0 \\Rightarrow T_y = \\min\\{n \\geq 0 : X_n = y\\}$.\n",
    "\n",
    "Let $T_y^1=T_y$ be the time of the first return to $y$, then the time of the $k$-th return to $y$:\n",
    "\n",
    "$T_{y}^{k} = \\min\\{n > T_{y}^{k-1} : X_n = y\\} \\quad (1.3)$ \n",
    "\n",
    "$P_y(T^k_y < \\infty) = p_{yy}^k \\quad (1.4)$\n",
    "\n",
    "(i) $p_{yy} < 1$: The probability of returning $k$ times is $p_{yy}^k \\to 0$ as $k \\to \\infty$. Thus, eventually the Markov chain does not find its way back to $y$. In this case the state $y$ is called **transient**, since after some point it is never visited by the Markov chain.\n",
    "\n",
    "$\\Leftrightarrow P_y(T_y = \\infty)>0\\Leftrightarrow 1-p_{yy}>0$\n",
    "\n",
    "(ii) $p_{yy} = 1$: The probability of returning $k$ times $p_{yy}^k = 1$, so the chain returns to $y$ infinitely many times. In this case, the state $y$ is called **recurrent**, it continually recurs in the Markov chain.\n",
    "\n",
    "$\\Leftrightarrow P_y(T_y = \\infty)=0\\Leftrightarrow 1-p_{yy}=0$"
   ]
  },
  {
   "cell_type": "markdown",
   "metadata": {},
   "source": [
    "### 📌 总结\n",
    "| 状态类型 | 取值范围        | 说明                  |\n",
    "|----------|----------------|---------------------|\n",
    "| 常返状态 | $ \\{1, 2, 3, \\dots\\} $ | 一定回得来 |\n",
    "| 瞬态状态 | $ \\{1, 2, 3, \\dots\\} \\cup \\{\\infty\\} $ | 可能回不来 |"
   ]
  },
  {
   "cell_type": "markdown",
   "metadata": {},
   "source": [
    "### Lemma 1.3.\n",
    "\n",
    "Suppose $ P_x(T_y \\leq k) \\geq \\alpha > 0 $ for all $ x $ in the state space $ S $. Then  \n",
    "\n",
    "$\n",
    "P_x(T_y > nk) \\leq (1 - \\alpha)^n \\to 0 \\text{ as }n\\to\\infty\n",
    "$\n",
    "\n",
    "$\n",
    "P_x(T_y \\leq nk) \\leq 1 - (1 - \\alpha)^n \\to 1 \\text{ as }n\\to\\infty\n",
    "$\n",
    "\n",
    "- $X_0 = x$\n",
    "- $ k $ is a fixed number of steps.  \n",
    "- $ n $ represents how many such $ k $-step blocks we consider.  \n",
    "- $ nk $ is the total number of steps we analyze.  \n",
    "- $ P_x(T_y \\leq k) \\geq \\alpha > 0 \\Rightarrow P_x(T_y > k) \\geq (1-\\alpha)$\n",
    "- $ T_y = \\min\\{ n \\geq 1 : X_n = y \\} $ is the first time the Markov chain reaches state $ y $.  \n",
    "- $ P_x(T_y \\leq k) $ is the probability that the chain reaches $ y $ within at most $ k $ steps, starting from $ x $.  \n",
    "- The assumption $ P_x(T_y \\leq k) \\geq \\alpha > 0 $ means that **from any state $ x $, there is at least a fixed probability $ \\alpha $ of reaching $ y $ within $ k $ steps**.  \n",
    "- $ P_x(T_y > nk) $ is the probability that the chain **has not reached $ y $ after $ nk $ steps**.  "
   ]
  },
  {
   "cell_type": "markdown",
   "metadata": {},
   "source": [
    "### Definition 1.1.\n",
    "\n",
    "We say that $ x $ **communicates with** $ y $ and write $ x \\to y $ if there is a positive probability of reaching $ y $ starting from $ x $, that is, the probability  \n",
    "\n",
    "$\n",
    "p_{xy} = P_x(T_y < \\infty) > 0\n",
    "$"
   ]
  },
  {
   "cell_type": "markdown",
   "metadata": {},
   "source": [
    "### Lemma 1.4. \n",
    "If $x\\to y$ and $y\\to z$, then $x\\to z$.\n",
    "\n",
    "**Proof:**\n",
    "\n",
    "Since $x\\to y$ with $m$ steps, $p^m(x,y)>0$.\n",
    "\n",
    "Similarly, $y\\to z$ with $n$ steps, $p^n(y,z)>0$.\n",
    "\n",
    "According to the Chapman–Kolmogorov equation:\n",
    "\n",
    "$p^{m+n}(i,j) = \\sum_k p^m(i,k) p^n(k,j)\\quad(1.2)$\n",
    "\n",
    "Thus, $p^{m+n}(x,z)=\\sum_k p^m(x,k) p^n(k,z)\\geq p^m(x,y)\\cdot p^n(y,z)>0$.\n",
    "\n",
    "Therefore, $p_{xz}>0$, that is to say: $x\\to z$."
   ]
  },
  {
   "cell_type": "markdown",
   "metadata": {},
   "source": [
    "### Theorem 1.5.\n",
    "\n",
    "If $p_{xy}>0$, but $p_{yx}<1$, then $x$ is transient.\n",
    "\n",
    "**Proof:**\n",
    "\n",
    "Let $K=\\min\\{k:p^k(x,y)>0\\}$ be the smallest number of steps we can take to get from $x$ to $y$. Since $p^k(x,y)>0$ there must be a sequence $y_1,...,y_{k-1}$ so that\n",
    "\n",
    "$p(x, y_1) p(y_1, y_2) \\cdots p(y_{k-1}, y) > 0$\n",
    "\n",
    "Since $k$ is minimal all the $y_i\\neq x$ (or there would be a shorter path), and we have\n",
    "\n",
    "$P_x(T_x = \\infty) \\geq p(x, y_1) p(y_1, y_2) \\cdots p(y_{k-1}, y) (1 - p_{yx}) > 0$\n",
    "\n",
    "so $x$ is transient."
   ]
  },
  {
   "cell_type": "markdown",
   "metadata": {},
   "source": [
    "### Lemma 1.6.\n",
    "\n",
    "If $x$ is recurrent and $p_{xy} > 0$, then $p_{yx} = 1$.\n",
    "\n",
    "### Proof:\n",
    "\n",
    "$x$ is recurrent, so $P_x(T_x = \\infty)=0$.\n",
    "\n",
    "$P_x(T_x = \\infty) \\geq p(x, y_1) p(y_1, y_2) \\cdots p(y_{k-1}, y) (1 - p_{yx})$\n",
    "\n",
    "Since $p(x, y_1) p(y_1, y_2) \\cdots p(y_{k-1}, y) > 0$, then\n",
    "\n",
    "$0 \\geq p(x, y_1) p(y_1, y_2) \\cdots p(y_{k-1}, y) (1 - p_{yx})$\n",
    "\n",
    "$\\Rightarrow (1 - p_{yx})\\leq 0$\n",
    "\n",
    "$\\Rightarrow p_{yx}\\geq 1$\n",
    "\n",
    "$\\Rightarrow p_{yx} = 1$"
   ]
  },
  {
   "cell_type": "markdown",
   "metadata": {},
   "source": [
    "### Theorem 1.7. \n",
    "If $C$ is a finite **closed and irreducible** set, then all states in $C$ are **recurrent**.\n",
    "- A set $A$ is **closed** if it is impossible to get out, i.e., if $i \\in A$ and $j \\notin A$ then $p(i,j)=0$.\n",
    "    - In following example 1.14: $\\{1,5\\}$,$\\{4,6,7\\}$,$\\{1,4,5,6,7\\}$,$\\{1,3,4,5,6,7\\}$,$\\{1,2,3,4,5,6,7\\}$ are closed sets, but these are too big!\n",
    "- A set $B$ is called **irreducible** if whenever $i,j\\in B, i$ communicates with $j$.\n",
    "    - In following example 1.14: $\\{1,5\\}$ and $\\{4,5,7\\}$ are irreducible closed sets.\n",
    "\n",
    "- Therefore, A set $ C $ is **closed and irreducible** if it satisfies the following conditions:\n",
    "    - For all $ i \\in C $ and $ j \\in S \\setminus C $, we have $ p(i, j) = 0 $ (closedness).\n",
    "    - For all $ i, j \\in C $, there exists a number $ k $ such that $ p^k(i, j) > 0 $ (irreducibility)."
   ]
  },
  {
   "cell_type": "markdown",
   "metadata": {},
   "source": [
    "**Proof:** To prove theorem 1.7, it is sufficient to prove the following two statements:\n",
    "1. (Lemma 1.9) If $x$ is recurrent and $x \\to y$ then $y$ is recurrent\n",
    "2. (Lemma 1.10) A finite closed set contains at least one recurrent state"
   ]
  },
  {
   "cell_type": "markdown",
   "metadata": {},
   "source": [
    "**Example 1.14 (A Seven-State Chain).** Consider the transition probability:\n",
    "\n",
    "$\n",
    "\\begin{array}{cccccc}\n",
    "  & 1 & 2 & 3 & 4 & 5 & 6 & 7 \\\\\n",
    "1 & .7 & 0 & 0 & 0 & .3 & 0 & 0 \\\\\n",
    "2 & .1 & .2 & .3 & .4 & 0 & 0 & 0 \\\\\n",
    "3 & 0 & 0 & .5 & .3 & .2 & 0 & 0 \\\\\n",
    "4 & 0 & 0 & 0 & .5 & 0 & .5 & 0 \\\\\n",
    "5 & .6 & 0 & 0 & 0 & .4 & 0 & 0 \\\\\n",
    "6 & 0 & 0 & 0 & 0 & 0 & .2 & .8 \\\\\n",
    "7 & 0 & 0 & 0 & 1 & 0 & 0 & 0\n",
    "\\end{array}\n",
    "$"
   ]
  },
  {
   "cell_type": "code",
   "execution_count": null,
   "metadata": {},
   "outputs": [
    {
     "data": {
      "image/png": "[encoded data removed]",
      "text/plain": [
       "<IPython.core.display.Image object>"
      ]
     },
     "execution_count": 3,
     "metadata": {},
     "output_type": "execute_result"
    }
   ],
   "source": [
    "from IPython.display import Image\n",
    "Image(filename=\"..\\\\Images\\\\Theorem 1.7.png\")"
   ]
  },
  {
   "cell_type": "markdown",
   "metadata": {},
   "source": [
    "### Theorem 1.8.\n",
    "\n",
    "If the state space $ S $ is finite, then $ S $ can be written as a disjoint union $ T \\cup R_1 \\cup \\cdots \\cup R_k $, where $ T $ is a set of transient states and the $ R_i $, $ 1 \\leq i \\leq k $, are closed irreducible sets of recurrent states."
   ]
  },
  {
   "cell_type": "markdown",
   "metadata": {},
   "source": [
    "### Lemma 1.9. \n",
    "\n",
    "If $x$ is recurrent and $x \\to y$, then $y$ is recurrent. (Similarly with Lemma 1.6.)"
   ]
  },
  {
   "cell_type": "markdown",
   "metadata": {},
   "source": [
    "### Lemma 1.10.\n",
    "\n",
    "In a finite closed set there has to be at least one recurrent state."
   ]
  },
  {
   "cell_type": "markdown",
   "metadata": {},
   "source": [
    "### Lemma 1.11.\n",
    "\n",
    "Let $N(y)$ be the number of visits to $y$ at times $n \\geq 1$, then $E_x N(y) = p_{xy} / (1 - p_{yy})$\n",
    "- $P_x(T_y^k < \\infty) = p_{xy}p_{yy}^{k-1}.\\quad(1.5)$\n",
    "- Using (1.5) we can compute $E_x N(y)$.\n",
    "\n",
    "**Proof:**\n",
    "\n",
    "$EX = \\sum_{k=1}^{\\infty} P(X \\geq k) \\quad(1.6)$\n",
    "\n",
    "For any nonnegative integer valued random variable $X$, Let $1_{\\{X\\geq k\\}}\\sim Bernoulli(p)$, where $p=P(X\\geq k)$, denote the random variable that is $1$ if $X\\geq k$ and 0 otherwise, thus\n",
    "\n",
    "$X=\\sum_{k=1}^\\infty 1_{\\{X\\geq k\\}}$\n",
    "\n",
    "$E(1_{\\{X\\geq k\\}})=P(X\\geq k)$\n",
    "\n",
    "Therefore, we proved (1.6): $EX = \\sum_{k=1}^{\\infty} P(X \\geq k)$.\n",
    "\n",
    "The Probability of returning at least $k$ times, $\\{N(y)\\geq k\\}$, is same as the event that the $k$-th return occurs, i.e., $\\{T_y^k<\\infty\\}$, thus\n",
    "\n",
    "$P_x(N(y)\\geq k)=P_x(T_y^k<\\infty)$"
   ]
  },
  {
   "cell_type": "markdown",
   "metadata": {},
   "source": [
    "$\\begin{aligned}\n",
    "E_xN(y)\n",
    "&=\\sum_{k=1}^\\infty P_x(N(y)\\geq k)\\\\\n",
    "&=\\sum_{k=1}^\\infty P_x(T_y^k<\\infty)\\\\\n",
    "&=\\sum_{k=1}^\\infty p_{xy}p_{yy}^{k-1}\\\\\n",
    "&=p_{xy}\\sum_{k=1}^\\infty p_{yy}^{k-1},\\quad(\\sum_{n=0}^\\infty\\theta^n=1/(1-\\theta))\\\\\n",
    "&=\\frac{p_{xy}}{1-p_{yy}}\n",
    "\\end{aligned}$"
   ]
  },
  {
   "cell_type": "markdown",
   "metadata": {},
   "source": [
    "### Lemma 1.12\n"
   ]
  },
  {
   "cell_type": "markdown",
   "metadata": {},
   "source": [
    "$E_x(N(y)) = \\sum_{k=1}^{\\infty} p^k(x, y)$\n",
    "\n",
    "**Proof:**\n",
    "\n",
    "Let's set:"
   ]
  },
  {
   "cell_type": "markdown",
   "metadata": {},
   "source": [
    "$I_{\\{X_n=y\\}}=\n",
    "\\begin{cases}\n",
    "&1\\quad X_n=y\\\\\n",
    "&0\\quad X_n\\neq y\n",
    "\\end{cases}$"
   ]
  },
  {
   "cell_type": "markdown",
   "metadata": {},
   "source": [
    "$I_{\\{X_n=y\\}}\\sim Bernoulli(p)$, where $p=P_x(X_n=y)$."
   ]
  },
  {
   "cell_type": "markdown",
   "metadata": {},
   "source": [
    "$N(y)=\\sum_{n=1}^\\infty I_{\\{X_n=y\\}}$\n",
    "\n",
    "$E_xN(y)=\\sum_{n=1}^\\infty P_x(X_n=y)$"
   ]
  },
  {
   "cell_type": "markdown",
   "metadata": {},
   "source": [
    "### Theorem 1.13.\n",
    "\n",
    "$y$ is recurrent if and only if\n",
    "\n",
    "$\\sum_{n=1}^\\infty p^n(y,y)=E_yN(y)=\\infty$\n",
    "\n",
    "\n",
    "otherwise it is transient."
   ]
  },
  {
   "cell_type": "markdown",
   "metadata": {},
   "source": [
    "## 1.4 Stationary Distributions"
   ]
  },
  {
   "cell_type": "markdown",
   "metadata": {},
   "source": [
    "What happens when the initial state is random?\n",
    "\n",
    "Suppose we have an initial state distribution $q$ such that\n",
    "\n",
    "$q(i)=P(X_0=i)$\n",
    "\n",
    "Thus, we can get\n",
    "\n",
    "$P(X_n = j) = \\sum_i P(X_n = j, X_0 = i) = \\sum_i q(i) P(X_n = j \\mid X_0 = i)$"
   ]
  },
  {
   "cell_type": "markdown",
   "metadata": {},
   "source": [
    "Consider the social mobility chain with initial distribution\n",
    "\n",
    "$q(1) = .5, q(2) = .2, q(3) = .3$. We can observe"
   ]
  },
  {
   "cell_type": "markdown",
   "metadata": {},
   "source": [
    "$\\begin{pmatrix} 0.5 & 0.2 & 0.3 \\end{pmatrix} \n",
    "\\begin{pmatrix} 0.7 & 0.2 & 0.1 \\\\ 0.3 & 0.5 & 0.2 \\\\ 0.2 & 0.4 & 0.4 \\end{pmatrix} = \n",
    "\\begin{pmatrix} 0.47 & 0.32 & 0.21 \\end{pmatrix}$"
   ]
  },
  {
   "cell_type": "markdown",
   "metadata": {},
   "source": [
    "where the right hand side gives us the distribution of $X_1$ given initial distribution $q$."
   ]
  },
  {
   "cell_type": "markdown",
   "metadata": {},
   "source": [
    "### Definition: Stationary distribution\n",
    "\n",
    "$qp=\\sum_i q(i)p(i,j)$\n",
    "\n",
    "If $qp = q$, then $q$ is called a stationary distribution. If the distribution at time 0\n",
    "is the same as the distribution at time 1, then by the Markov property it will be the\n",
    "distribution at all times $n\\geq 1$.\n",
    "\n",
    "We can also use a special letter $\\pi$ to denote solutions of the equation:\n",
    "\n",
    "$\\pi p=\\pi$\n",
    "\n",
    "$\\pi p^n=(\\pi p) p^{n-1}=\\pi$"
   ]
  },
  {
   "cell_type": "markdown",
   "metadata": {},
   "source": [
    "#### Example 1.17 (Weather Chain). \n",
    "\n",
    "To compute the stationary distribution we want to solve"
   ]
  },
  {
   "cell_type": "markdown",
   "metadata": {},
   "source": [
    "$\\begin{pmatrix} \\pi_1 & \\pi_2 \\end{pmatrix} \n",
    "\\begin{pmatrix} 0.6 & 0.4 \\\\ 0.2 & 0.8 \\end{pmatrix} = \n",
    "\\begin{pmatrix} \\pi_1 & \\pi_2 \\end{pmatrix}$"
   ]
  },
  {
   "cell_type": "markdown",
   "metadata": {},
   "source": [
    "$\\begin{aligned}\n",
    "&0.6\\pi_1 + 0.2\\pi_2 = \\pi_1 \\\\\n",
    "&0.4\\pi_1 + 0.8\\pi_2 = \\pi_2\\\\\n",
    "&\\pi_1 + \\pi_2 = 1\n",
    "\\end{aligned}$"
   ]
  },
  {
   "cell_type": "markdown",
   "metadata": {},
   "source": [
    "$\\begin{aligned}\n",
    "\\pi_1 &= \\frac{0.2}{0.2 + 0.4} = \\frac{1}{3} \\\\\n",
    "\\pi_2 &= \\frac{0.4}{0.2 + 0.4} = \\frac{2}{3}\n",
    "\\end{aligned}$"
   ]
  },
  {
   "cell_type": "markdown",
   "metadata": {},
   "source": [
    "### Theorem 1.14.\n",
    "\n",
    "Suppose that the $k \\times k$ transition matrix $p$ is irreducible. Then there is a unique solution to $\\pi p = \\pi$ with $\\sum_{x} \\pi_x = 1$ and we have $\\pi_x > 0$ for all $x$.\n"
   ]
  },
  {
   "cell_type": "markdown",
   "metadata": {},
   "source": [
    "## 1.5 Limit Behavior\n",
    "\n",
    "### Periodicity\n",
    "\n",
    "The period of a state x is the largest number that will divide all n such that $p^n(x,x)>0$. Or equivalently, **the greatest common divisor** of \n",
    "\n",
    "$I_x=\\{n\\geq 1: p^n(x,x)\\}$\n",
    "\n",
    "状态 $x$ 的周期定义为 $gcd(I_x)$\n",
    "\n",
    "A chain where all states have period 1 is called *aperiodic*."
   ]
  },
  {
   "cell_type": "markdown",
   "metadata": {},
   "source": [
    "### Lemma 1.16:\n",
    "\n",
    "If $x$ has period 1, then there is a number $n_0$ such that $n\\in I_x$ for all $n\\geq n_0$."
   ]
  },
  {
   "cell_type": "markdown",
   "metadata": {},
   "source": [
    "### Lemma 1.17:\n",
    "\n",
    "If $p(x,x)>0$ then $x$ has period 1."
   ]
  },
  {
   "cell_type": "markdown",
   "metadata": {},
   "source": [
    "### Lemma 1.18:\n",
    "\n",
    "If $p_{xy}>0$ and $p_{yx}>0$ then $x$ and $y$ have the same period."
   ]
  },
  {
   "cell_type": "markdown",
   "metadata": {},
   "source": [
    "#### **Main Results**\n",
    "\n",
    "We will now state our main results about the limiting behavior of a Markov chain. Our theorems will rely on some subset of the following four assumptions:\n",
    "\n",
    "1. $ I: p $ is irreducible  \n",
    "2. $ A: $ aperiodic, all states have period 1  \n",
    "3. $ R: $ all states are recurrent  \n",
    "4. $ S: $ there is a stationary distribution $\\pi$\n",
    "\n",
    "We will use these abbreviations for conciseness in stating our theorems."
   ]
  },
  {
   "cell_type": "markdown",
   "metadata": {},
   "source": [
    "### Theorem 1.19 (Convergence Theorem):\n",
    "\n",
    "Suppose $I,A,S$. Then as $n\\to\\infty, p^n(x,y)\\to\\pi(y)$."
   ]
  },
  {
   "cell_type": "markdown",
   "metadata": {},
   "source": [
    "#### Example:\n",
    "使用之前讨论的链：\n",
    "$\n",
    "P = \\begin{bmatrix}\n",
    "0.6 & 0.4 \\\\\n",
    "0.3 & 0.7\n",
    "\\end{bmatrix}\n",
    "$\n",
    "- **$ I $**：不可约（状态 1 和 2 互相可达）。\n",
    "- **$ A $**：非周期性（状态 1 和 2 的周期为 1，$ I_x = \\{1, 2, 3, \\dots\\} $，GCD = 1）。\n",
    "- **$ S $**：存在平稳分布 $ \\pi = [4/7, 3/7] $，满足 $ \\pi P = \\pi $ 和 $ \\pi(1) + \\pi(2) = 1 $。\n",
    "- 根据 Theorem 1.19：\n",
    "  - $ p^n(1, 1) \\to \\pi(1) = 4/7 \\approx 0.571 $。\n",
    "  - $ p^n(1, 2) \\to \\pi(2) = 3/7 \\approx 0.429 $。\n",
    "  - 类似地，$ p^n(2, 1) \\to 4/7 $，$ p^n(2, 2) \\to 3/7 $。\n",
    "- 收敛是单调的、无振荡的，因为链非周期性"
   ]
  },
  {
   "cell_type": "markdown",
   "metadata": {},
   "source": [
    "### stationary measure\n",
    "\n",
    "A vector $\\mu$ is a stationary measure if\n",
    "\n",
    "$\\sum_x \\mu(x) p(x, y) = \\mu(y)$\n",
    "\n",
    "Unlike $\\pi$, $\\mu$ is not required to be a distribution, though if the state space is finite we can find $\\pi$ by normalizing $\\mu$:\n",
    "\n",
    "$\n",
    "\\pi(x) = \\frac{\\mu(x)}{\\sum_x \\mu(x)}\n",
    "$"
   ]
  },
  {
   "cell_type": "markdown",
   "metadata": {},
   "source": [
    "### Theorem 1.20:\n",
    "\n",
    "Suppose $I,R.$ Then there is a stationary measure $\\mu$ such that $\\mu(x)>0$ for all $x$."
   ]
  },
  {
   "cell_type": "markdown",
   "metadata": {},
   "source": [
    "### Theorem 1.21 (Asymptotic Fequency): \n",
    "\n",
    "Suppose $I,R.$ Let $N_n(y)$ be the number of visits to $y$ up to time $n$. Then\n",
    "\n",
    "$\\frac{N_n(y)}{n}\\to\\frac{1}{E_y(T_y)}$\n",
    "\n",
    "- $\\frac{N_n(y)}{n}$ is the frequency to visit $y$\n",
    "- $E_y(T_y)$ is expected the first return from $y$ to $y$\n",
    "\n",
    "We will see later that if $E_y(T_y)=\\infty$ then $\\frac{N_n(y)}{n}\\to 0$."
   ]
  },
  {
   "cell_type": "markdown",
   "metadata": {},
   "source": [
    "### Theorem 1.22:\n",
    "\n",
    "Suppose $I,S$. Then\n",
    "\n",
    "$\\pi(y)=\\frac{1}{E_y(T_y)}$\n",
    "\n",
    "and thus the stationary distribution is unique."
   ]
  },
  {
   "cell_type": "markdown",
   "metadata": {},
   "source": [
    "### Theorem 1.23:\n",
    "\n",
    "Suppose $I,S$ and $\\sum_{x} |f(x)|\\pi(x)<\\infty$ then\n",
    "\n",
    "$\\frac{1}{n}\\sum_{m=1}^{n}f(X_m)\\to \\sum_{x}f(x)\\pi(x)$\n",
    "\n",
    "Note that Theorems 1.21 and 1.23 do not require aperiodicity."
   ]
  },
  {
   "cell_type": "markdown",
   "metadata": {},
   "source": [
    "#### Example: Store inventory \n",
    "\n",
    "Suppose a game store sells PS5s, and each day there is demand for 0, 1, 2, or 3 PS5s with probabilities .3, .4, .2, and .1. Each sale produces a profit of $120, but it costs $20 a day to keep unsold units stocked.\n",
    "\n",
    "The store adopts the following stocking policy: if there are less than 3 units, restock to 3 to start the next day.\n",
    "\n",
    "Let $X_n=$ $\\{0,1,2,3\\}$ be the number of units sold each day. \n",
    "\n",
    "##### What is the transition matrix?\n",
    "\n",
    "$P = \\begin{bmatrix}\n",
    "0.3 & 0.4 & 0.2 & 0.1 \\\\\n",
    "0.3 & 0.4 & 0.2 & 0.1 \\\\\n",
    "0.3 & 0.4 & 0.2 & 0.1 \\\\\n",
    "0.3 & 0.4 & 0.2 & 0.1 \\\\\n",
    "\\end{bmatrix}$"
   ]
  },
  {
   "cell_type": "markdown",
   "metadata": {},
   "source": [
    "##### What's the stationary distribution of $X_n$?\n",
    "\n",
    "$\\pi(0)=0.3$\n",
    "\n",
    "$\\pi(1)=0.4$\n",
    "\n",
    "$\\pi(2)=0.2$\n",
    "\n",
    "$\\pi(3)=0.1$"
   ]
  },
  {
   "cell_type": "markdown",
   "metadata": {},
   "source": [
    "##### What's the long run sales profit?\n",
    "\n",
    "According to Theorem 1.23: $I,S$ and $\\sum_{x} |f(x)|\\pi(x)<\\infty$ then\n",
    "\n",
    "$\\frac{1}{n}\\sum_{m=1}^{n}f(X_m)\\to \\sum_{x}f(x)\\pi(x)$\n",
    "\n",
    "我们需要定义每日利润函数 $f(X_n)$, 基于销售数量\n",
    "\n",
    "$f(X_m)=120\\cdot X_m=f(x)$\n",
    "\n",
    "长期销售收入$\\frac{1}{n}\\sum_{m=1}^{n}f(X_m)$:\n",
    "\n",
    "$\\sum_{x}f(x)\\pi(x)=0\\cdot 120\\cdot 0.3+ 1\\cdot 120\\cdot 0.4+ 2\\cdot 120\\cdot 0.2+3\\cdot 120\\cdot 0.1=132$\\$"
   ]
  },
  {
   "cell_type": "markdown",
   "metadata": {},
   "source": [
    "##### What is the long run inventory holding cost?\n",
    "\n",
    "$h(X_m)=20\\cdot(3-X_m)$\n",
    "\n",
    "$\\sum_{x}h(x)\\pi(x)=20\\cdot 3\\cdot 0.3+ 20\\cdot 2\\cdot 0.4 + 20\\cdot 1\\cdot 0.2+ 20\\cdot 0\\cdot 0.1=38$\\$"
   ]
  },
  {
   "cell_type": "markdown",
   "metadata": {},
   "source": [
    "##### What is the long run net profit?\n",
    "\n",
    "132-38=94$"
   ]
  },
  {
   "cell_type": "markdown",
   "metadata": {},
   "source": [
    "#### Example: store inventory\n",
    "\n",
    "Suppose instead the stocking policy is as follows: if there are less than 2 units, restock to 3 to start the next day.\n",
    "\n",
    "$P = \\begin{bmatrix}\n",
    "0.3 & 0.4 & 0.2 & 0.1 \\\\\n",
    "0.3 & 0.4 & 0.3 & 0 \\\\\n",
    "0.3 & 0.4 & 0.2 & 0.1 \\\\\n",
    "0.3 & 0.4 & 0.2 & 0.1 \\\\\n",
    "\\end{bmatrix}$\n",
    "\n",
    "Find the stationary distribution, $\\pi p =\\pi$\n",
    "\n",
    "$\\pi=(19/110\\quad 30/110\\quad 40/110\\quad 21/110)$\n",
    "\n",
    "We can apply Theorem 1.23 to compare the long run performance of the two stocking policies."
   ]
  },
  {
   "cell_type": "markdown",
   "metadata": {},
   "source": [
    "##### What is the long run sales profit?\n",
    "\n",
    "$\\sum_{x}f(x)\\pi(x)=127.64$\\$"
   ]
  },
  {
   "cell_type": "markdown",
   "metadata": {},
   "source": [
    "##### What is the long run inventory holding cost?\n",
    "\n",
    "$\\sum_{x}h(x)\\pi(x)=31.45$\\$"
   ]
  },
  {
   "cell_type": "markdown",
   "metadata": {},
   "source": [
    "##### What is the long run net profit?\n",
    "\n",
    "$127.64-31.45=46.19$\\$"
   ]
  },
  {
   "cell_type": "markdown",
   "metadata": {},
   "source": [
    "#### Lemma 1.26:\n",
    "\n",
    "If there is a stationary distribution $\\pi$, then all states $y$ such that $\\pi(y)>0$ are recurrent."
   ]
  },
  {
   "cell_type": "markdown",
   "metadata": {},
   "source": [
    "## 1.6 Special Examples\n",
    "\n",
    "### 1.6.1 Doubly stochastic chains\n",
    "\n",
    "**Definition 1.2.** \n",
    "\n",
    "A transition matrix $p$ is said to be doubly stochastic if its COLUMNS sum to 1, or in symbols $\\sum_x p(x,y)=1$."
   ]
  },
  {
   "cell_type": "markdown",
   "metadata": {},
   "source": [
    "##### Example: Symmetric reflecting random walk\n",
    "\n",
    "Consider the state space $\\{0, 1, \\ldots, L\\}$ and let  \n",
    "\n",
    "$X_t = \\max(X_{t-1} - 1, 0) \\text{ with probability } 1/2$\n",
    "\n",
    "$X_t = \\min(X_{t-1} + 1, L) \\text{ with probability } 1/2$\n",
    "\n",
    "Suppose $L=4$, transition matrix:\n",
    "\n",
    "$\\begin{array}{llllll} \n",
    "& 0 & 1 & 2 & 3 & 4 \\\\\n",
    "0 & 1 / 2 & 1 / 2 & 0 & 0 & 0 \\\\\n",
    "1 & 1 / 2 & 0 & 1 / 2 & 0 & 0 \\\\\n",
    "2 & 0 & 1 / 2 & 0 & 1 / 2 & 0 \\\\\n",
    "3 & 0 & 0 & 1 / 2 & 0 & 1 / 2 \\\\\n",
    "4 & 0 & 0 & 0 & 1 / 2 & 1 / 2\n",
    "\\end{array}$"
   ]
  },
  {
   "cell_type": "markdown",
   "metadata": {},
   "source": [
    "### Theorem 1.24:\n",
    "\n",
    "If $p$ is doubly stochastic transition matrix for a Markov chain with $N$ states, then $\\pi(x)=1/N$ for all $x$ is a stationary distribution."
   ]
  },
  {
   "cell_type": "markdown",
   "metadata": {},
   "source": [
    "##### Example: Tiny Board Game  \n",
    "\n",
    "Suppose you play a board game with spaces labeled $\\{0, 1, 2, 3, 4, 5\\}$. Each turn you roll a die that has 3 sides with 1, 2 sides with 2, 1 side with 3, and move that number of spaces. On the board, 5 is adjacent to 0 so that if you are currently on space $i$ and move $j$ spaces, the result is that you end on space $i + j$ mod 5. What is the transition matrix?"
   ]
  },
  {
   "cell_type": "markdown",
   "metadata": {},
   "source": [
    "$\\begin{array}{lllllll} \n",
    "& 0 & 1 & 2 & 3 & 4 & 5\\\\\n",
    "0 & 0 & 1 / 2 & 1/3 & 1/6 & 0 & 0 \\\\\n",
    "1 & 0 & 0 & 1 / 2 & 1/3 & 1/6 & 0 \\\\\n",
    "2 & 0 & 0 & 0 & 1 / 2 & 1/3 & 1/6 \\\\\n",
    "3 & 1/6 & 0 & 0 & 0 & 1 / 2 & 1/3\\\\\n",
    "4 & 1/3 & 1/6 & 0 & 0 & 0 & 1/2 \\\\\n",
    "5 & 1/2 & 1/3 & 1/6 & 0 & 0 & 0 \n",
    "\\end{array}$"
   ]
  },
  {
   "cell_type": "markdown",
   "metadata": {},
   "source": [
    "### Detailed Balance Condition\n",
    "\n",
    "$\\pi$ is said to satisfy the detailed balance condition for a transition matrix $p$ if for all $x,y$\n",
    "\n",
    "$\\pi(x)p(x,y)=\\pi(y)p(y,x)$\n",
    "\n",
    "Note that this is stronger than $\\pi p=\\pi$:\n",
    "\n",
    "$\\sum_x\\pi(x)p(x,y)=\\pi(y)\\sum_x p(y,x)=\\pi(y)$ (这是平稳分布的定义)\n",
    "\n",
    "$\\pi$ satisfies the detailed balance condition $\\Rightarrow$ $\\pi$ satisfies stationary distributions."
   ]
  },
  {
   "cell_type": "markdown",
   "metadata": {},
   "source": [
    "##### Consider the following transition matrix:\n",
    "\n",
    "|   | 1   | 2   | 3   |\n",
    "|---|-----|-----|-----|\n",
    "| 1 | 0.5 | 0.5 | 0   |\n",
    "| 2 | 0.3 | 0.1 | 0.6 |\n",
    "| 3 | 0.2 | 0.4 | 0.4 |"
   ]
  },
  {
   "cell_type": "markdown",
   "metadata": {},
   "source": [
    "它满足 stationary distribution, since 列之合等于1，$\\pi=(1/3,1/3,1/3)$。不满足 Detailed Balance Condition, 因为通过计算 $\\pi(1)p(1,3)=\\pi(3)p(3,1)$ 我们得出 $\\pi(3)=0$ 与事实不符。"
   ]
  },
  {
   "cell_type": "markdown",
   "metadata": {},
   "source": [
    "#### Example: Ehrenfest Chain\n",
    "\n",
    "Consider the Ehrenfest chain with 3 balls so the transition matrix is\n",
    "\n",
    "$\\begin{array}{cccc}\n",
    " & 0 & 1 & 2 & 3 \\\\\n",
    "0 & 0 & 3/3 & 0 & 0 \\\\\n",
    "1 & 1/3 & 0 & 2/3 & 0 \\\\\n",
    "2 & 0 & 2/3 & 0 & 1/3 \\\\\n",
    "3 & 0 & 0 & 3/3 & 0 \\\\\n",
    "\\end{array}$\n",
    "\n",
    "What is $\\pi$?"
   ]
  },
  {
   "cell_type": "markdown",
   "metadata": {},
   "source": [
    "Birth and death chains: $\\pi(x+1) = \\frac{p_x}{q_{x+1}} \\cdot \\pi(x)$\n",
    "\n",
    "$\\begin{array}{ll}\n",
    "p(x, x+1) = p_x & \\text{for } x < r \\\\\n",
    "p(x, x-1) = q_x & \\text{for } x > \\ell \\\\\n",
    "p(x, x) = 1 - p_x - q_x & \\text{for } \\ell \\leq x \\leq r\n",
    "\\end{array}$"
   ]
  },
  {
   "cell_type": "markdown",
   "metadata": {},
   "source": [
    "Set $\\pi(0)=c$, thus $\\pi(1)=3c,\\pi(2)=3c, \\pi(3)=c$\n",
    "\n",
    "$\\sum_x\\pi(x)=1,c=1/8$\n",
    "\n",
    "$\\pi(0)=1/8$, thus $\\pi(1)=3/8,\\pi(2)=3/8, \\pi(3)=1/8$\n",
    "\n",
    "Verify $\\pi(x)p(x,y)=\\pi(y)p(y,x),\\forall x,y$, sucessfully:\n",
    "\n",
    "$\\pi$ satisfies stationary distribution.\n",
    "\n",
    "$\\pi$ satisfies the detailed balance condition.\n"
   ]
  },
  {
   "cell_type": "markdown",
   "metadata": {},
   "source": [
    "### Reversibility\n",
    "\n",
    "Consider a Markov Chain with transition matrix $p(i,j)$ and stationary distribution $\\pi$. What happens if we watcg the process $X_m,0\\leq m\\leq n$ in reverse?\n",
    "\n",
    "**Theorem 1.25:** Fix $ n $ and let $ Y_m = X_{n-m} $ for $ 0 \\leq m \\leq n $. Then  \n",
    "\n",
    "$ Y_m $ is a Markov chain with transition probability  \n",
    "\n",
    "$\n",
    "\\hat{p}(i,j) = P(Y_{m+1} = j|Y_m = i) = \\frac{\\pi(j)p(j,i)}{\\pi(i)}\n",
    "$"
   ]
  },
  {
   "cell_type": "markdown",
   "metadata": {},
   "source": [
    "We can verify that $\\hat{p}(i,j)$ defines a valid transition matrix:\n",
    "\n",
    "$\\hat{p}(i,j)=\\frac{\\pi(j)p(j,i)}{\\pi(i)}$\n",
    "\n",
    "$\\sum_j \\frac{\\pi(j) p(j,i)}{\\pi(i)}=\\frac{1}{\\pi(i)}\\sum_j \\pi(j) p(j,i)=\\frac{1}{\\pi(i)}(\\pi(i))=1$\n"
   ]
  },
  {
   "cell_type": "markdown",
   "metadata": {},
   "source": [
    "What happens if $\\pi$ satisfies the detailed balance condition?\n",
    "\n",
    "$\\pi(j)p(j,i)=\\pi(i)p(i,j),\\forall i,j$\n",
    "\n",
    "$\\hat{p}(i,j)=\\frac{\\pi(j)p(j,i)}{\\pi(i)}=\\frac{\\pi(i)p(i,j)}{\\pi(i)}=p(i,j)$"
   ]
  },
  {
   "cell_type": "markdown",
   "metadata": {},
   "source": [
    "When $\\pi$ satisfies the detailed balance condition, we see that $Y_m$ has the same distribution as $X_n$.\n",
    "\n",
    "A Markov chain with this property (that the distribution is the same when the chain is reversed) is called **reversible**."
   ]
  },
  {
   "cell_type": "markdown",
   "metadata": {},
   "source": [
    "The detailed balance condition is a sufficient, but not necessary condiction for a Markov chain to be reversible.\n",
    "- The detailed balance condition $\\Rightarrow$ Markov chain to be reversible."
   ]
  },
  {
   "cell_type": "markdown",
   "metadata": {},
   "source": [
    "### Metropolis-Hasting Algorithm\n",
    "\n",
    "The Metropolis-Hasting algorithm is an algorithm for sampling\n",
    "from a distribution $\\pi(x)$.\n",
    "\n",
    "The Metropolis-Hasting algorithm is important in Bayesian\n",
    "statistics as it is commonly used to sample from a posterior\n",
    "distribution in MCMC (Markov chain Monte Carlo) methods"
   ]
  },
  {
   "cell_type": "markdown",
   "metadata": {},
   "source": [
    "Begin with a Markov chain with transition matrix $ q(x, y) $ that we call the proposal distribution. We wish to generate a sequence $ X_1, \\ldots, X_N $ in the following way. Given $ X_n = x $, we propose the next move $ y $ according to $ q(x, y) $. Next, we define\n",
    "\n",
    "$\n",
    "r(x, y) = \\min\\left(1, \\frac{\\pi(y) q(y, x)}{\\pi(x) q(x, y)}\\right)\n",
    "$\n",
    "\n",
    "We then flip a coin with probability of heads $ r(x, y) $:\n",
    "\n",
    "- If heads, set $ X_{n+1} = y $ (accept the new move).\n",
    "- If tails, set $ X_{n+1} = x $ (reject the new move)."
   ]
  },
  {
   "cell_type": "markdown",
   "metadata": {},
   "source": [
    "Generating the sequence $ X_1, \\ldots, X_N $ in this way results in a Markov chain with transition probabilities\n",
    "\n",
    "$\n",
    "p(x, y) = q(x, y) r(x, y)\n",
    "$\n",
    "\n",
    "We can verify that the distribution $\\pi$ satisfies **the detailed balance condition** for $ p(x, y) $:"
   ]
  },
  {
   "cell_type": "markdown",
   "metadata": {},
   "source": [
    "Suppose that $\\pi(y)q(y,x) > \\pi(x)q(x,y)$. In this case:\n",
    "\n",
    "$\\pi(x)p(x,y) = \\pi(x)q(x,y) \\cdot 1$\n",
    "\n",
    "$\\pi(y)p(y,x) = \\pi(y)q(y,x) \\frac{\\pi(x)q(x,y)}{\\pi(y)q(y,x)} = \\pi(x)q(x,y) = \\pi(x)p(x,y)$\n",
    "\n"
   ]
  },
  {
   "cell_type": "markdown",
   "metadata": {},
   "source": [
    "To generate samples from $\\pi(x)$\n",
    "\n",
    "1. Run the chain defined by $p(x, y)$ for a long time until it reaches equilibrium to obtain a single sample.\n",
    "2. Repeat 1. by taking samples at widely separated times.\n",
    "\n",
    "The question of how long is a sufficiently \"long time\" is not always easy to answer.\n",
    "\n",
    "We can also use Theorem 1.23 to compute expected values of functions of $X \\sim \\pi(x)$, since this theorem tells us\n",
    "\n",
    "$\n",
    "\\frac{1}{n}\\sum_{m=1}^{n} f(X_m) \\to \\sum_{x} f(x)\\pi(x)\n",
    "$"
   ]
  },
  {
   "cell_type": "markdown",
   "metadata": {},
   "source": [
    "### Example: Geometric distribution\n",
    "\n",
    "Consider the geometric distribution with success probability $\\theta$, so\n",
    "\n",
    "$\\pi(x)=\\theta(1-\\theta)^{x-1},x=1,2,...$\n",
    "\n",
    "$q(x,y)=\n",
    "\\begin{cases}\n",
    "1/2 \\quad & |x-y|=1 \\\\\n",
    "0   \\quad & otherwise\n",
    "\\end{cases}$\n",
    "\n",
    "$r(x,y)=\n",
    "\\begin{cases}\n",
    "\\frac{\\theta(1-\\theta)^{y-1}}{\\theta(1-\\theta)^{x-1}} \\quad & |x-y|=1\\\\\n",
    "0   \\quad & otherwise\n",
    "\\end{cases}$"
   ]
  },
  {
   "cell_type": "markdown",
   "metadata": {},
   "source": [
    "Why is the Metropolis-Hastings Algorithm useful in Bayesian statistics?\n",
    "\n",
    "Consider the problem of inference for a parameter θ after observing data\n",
    "\n",
    "$Y_1,...,Y_n\\sim$ iid $f(y|\\theta)$\n",
    "\n",
    "Bayesian statistics begins with a prior distribution on $\\theta, h(\\theta)$, and expresses belief about the parameter $\\theta$ after observing the data by the posterior\n",
    "\n",
    "$g(\\theta|Y_1,...,Y_n)=\\frac{f(\\mathbf{Y}|\\theta)h(\\theta)}{\\sum_\\theta f(\\mathbf{Y}|\\theta)h(\\theta)}$\n",
    "\n",
    "However, in many cases the denominator $\\sum_\\theta f(\\mathbf{Y}|\\theta)h(\\theta)$ is difficult to compute. In particular, if $\\theta$ is a high dimensional quantity or if $\\theta$ takes on continuous values in which case we replace the sum by an integral and \n",
    "\n",
    "$\\int_\\theta f(\\mathbf{Y}|\\theta)h(\\theta)$\n",
    "\n",
    "may not have a closed form solution\n",
    "\n",
    "To see why Metropolis-Hastings is useful here, set\n",
    "\n",
    "$\\pi(\\theta)=\\frac{f(\\mathbf{Y}|\\theta)h(\\theta)}{\\sum_\\theta f(\\mathbf{Y}|\\theta)h(\\theta)}$\n",
    "\n",
    "Now for any $q(\\theta,\\theta')$ we might choose we can observe\n",
    "\n",
    "$r(\\theta,\\theta')=\\min\\big(\\frac{\\pi(\\theta')q(\\theta',\\theta)}{\\pi(\\theta)q(\\theta,\\theta')},1\\big)$"
   ]
  },
  {
   "cell_type": "markdown",
   "metadata": {},
   "source": [
    "#### Example: \n",
    "Suppose $k$-sided die is rolled $10$ times. $k$ is unknown, but a priori we believe $P(k = 4) = P(k = 6) = P(k = 8) = 1/3$. Of the $10$ rolls, $4$ are $1s$. What is the posterior distribution of $k$?\n",
    "\n",
    "$\\begin{aligned}\n",
    "P(k|x=4)=\\frac{P(x=4|k)P(k)}{\\sum_{k\\in\\{4,6,8\\}}P(x=4|k)P(k)}=\\pi(k|x=4)\n",
    "\\end{aligned}$"
   ]
  },
  {
   "cell_type": "markdown",
   "metadata": {},
   "source": [
    "How can we use the M-H algorithm to sample from the posterior of $k=\\theta$?\n",
    "\n",
    "$q(\\theta,\\theta')=\n",
    "\\begin{cases}\n",
    "1/3\\quad &\\theta'=4,6,8\\\\\n",
    "0\\quad &otherwise\n",
    "\\end{cases}$\n",
    "\n",
    "$r(\\theta,\\theta')=\\min(\\frac{\\pi(\\theta')q(\\theta',\\theta)}{\\pi(\\theta)q(\\theta,\\theta')},1)=\\min(\\frac{P(x=4|k=\\theta')P(k=\\theta')q(\\theta',\\theta)}{P(x=4|k=\\theta)P(k=\\theta)q(\\theta,\\theta')},1)=\\min(\\frac{\\binom{10}{4}(1/\\theta')^4(1-1/\\theta')^6\\cdot (1/3)\\cdot (1/3)}{\\binom{10}{4}(1/\\theta)^4(1-1/\\theta)^6\\cdot (1/3)\\cdot (1/3)},1)=\\min(\\frac{(1/\\theta')^4(1-1/\\theta')^6}{(1/\\theta)^4(1-1/\\theta)^6},1)$"
   ]
  },
  {
   "cell_type": "markdown",
   "metadata": {},
   "source": [
    "## 1.8 Exit Distribution\n",
    "\n",
    "### Example: 2 years college \n",
    "\n",
    "At a local two year college, 60% of fresh men become sophomores, 25% remain freshmen, and 15% drop out. 70% of sophomores graduate and transfer to a four year college, 20% remain sophomores and 10% drop out. What fraction of new students eventually graduate?\n",
    "\n",
    "Let’s begin with the transition matrix:"
   ]
  },
  {
   "cell_type": "markdown",
   "metadata": {},
   "source": [
    "$\\begin{array}{cccc}\n",
    "& 1 & 2 & G & D \\\\\n",
    "1 & 0.25 & 0.6 & 0 & 0.15 \\\\\n",
    "2 & 0 & 0.2 & 0.7 & 0.1 \\\\\n",
    "G & 0 & 0 & 1 & 0 \\\\\n",
    "D & 0 & 0 & 0 & 1 \\\\\n",
    "\\end{array}$"
   ]
  },
  {
   "cell_type": "markdown",
   "metadata": {},
   "source": [
    "What is the fraction of new students eventually graduate?\n",
    "- Let $h(x)$ be the probability that a student currently in state $x$ eventually graduates.\n",
    "\n",
    "    $h(1)=0.25h(1)+0.6h(2)$\n",
    "\n",
    "    $h(2)=0.2h(2)+0.7$\n",
    "\n",
    "    $h(1)=0.7$"
   ]
  },
  {
   "cell_type": "markdown",
   "metadata": {},
   "source": [
    "### Example 1.40. Tennis. \n",
    "\n",
    "In tennis the winner of a game is the first player to win four points, unless the score is 4−3, in which case the game must continue until one player is ahead by two points and wins the game. Suppose that the server win the point with probability 0.6 and successive points are independent."
   ]
  },
  {
   "cell_type": "markdown",
   "metadata": {},
   "source": [
    "$\\begin{array}{cc|cccc}\n",
    " & 2 & 1 & 0 & -1 & -2 \\\\\n",
    "2 & 1 & 0 & 0 & 0 & 0 \\\\\n",
    "\\hline\n",
    "1 & .6 & 0 & .4 & 0 & 0 \\\\\n",
    "0 & 0 & .6 & 0 & .4 & 0 \\\\\n",
    "-1 & 0 & 0 & .6 & 0 & .4 \\\\\n",
    "\\hline\n",
    "-2 & 0 & 0 & 0 & 0 & 1 \\\\\n",
    "\\end{array}$"
   ]
  },
  {
   "cell_type": "markdown",
   "metadata": {},
   "source": [
    "- Let $h(x)$ be the probability of the server winning when the score is $x$ then\n",
    "\n",
    "    $h(x)=\\sum_y p(x,y)h(y)$\n",
    "\n",
    "    where $h(2)=1$ and $h(-2)=0$.\n",
    "\n",
    "    $h(1) = .6 + .4h(0)$\n",
    "\n",
    "    $h(0) = .6h(1) + .4h(-1)$\n",
    "\n",
    "    $h(-1) = .6h(0)$\n",
    "\n",
    "    $h(0) = 0.6923, h(1)=0.8769, h(-1)=0.4154$"
   ]
  },
  {
   "cell_type": "markdown",
   "metadata": {},
   "source": [
    "- General case: What if the serving player wins each point with probability $w$?\n",
    "\n",
    "    Suppose that the server wins each point with probability $w$\n",
    "\n",
    "    If at this time, the game is tied, after $2$ points, the server will have won with probability $w^2$, lose with $(1-w)^2$, and returned to a tied game with probability $2w(1-w)$, so $h(0)=w^2+2w(1-w)h(0)$.\n",
    "\n",
    "    $h(0)=\\frac{w^2}{w^2+(1-w)^2}$"
   ]
  },
  {
   "cell_type": "markdown",
   "metadata": {},
   "source": [
    "**Theorem 1.27:** Suppose $ X_n $ is a Markov chain on a finite state space $ S $. Let $ a, b \\in S $, $ C = S - \\{a, b\\} $, and  \n",
    "$ V_x = \\min\\{n \\geq 1, X_n = x\\} $ for each $ x \\in S $. Suppose  \n",
    "$ h(a) = 1, h(b) = 0 $, and  \n",
    "\n",
    "$\n",
    "h(x) = \\sum_y p(x, y)h(y)\n",
    "$\n",
    "\n",
    "Then if $ P_x(\\min\\{V_a, V_b\\} < \\infty) > 0 $ for all $ x \\in C $, then  \n",
    "\n",
    "$\n",
    "h(x) = P_x(V_a < V_b)\n",
    "$\n",
    "- $h(x)$ 是从状态 $x$ 开始，链先到达 $a$ 而不是 $b$ 的概率。"
   ]
  },
  {
   "cell_type": "markdown",
   "metadata": {},
   "source": [
    "**Example:** Bob, who has 15 pennies, and Charlie, who has 10 pennies, decide to play a game. They each flip a coin. If the two coins match, Bob gets the two pennies (for a profit of 1). If the two coins are different, then Charlie gets the two pennies. They quit when someone has all the pennies. What is the probability Bob will eventually have all the pennies?\n",
    "\n",
    "Let $ X_n $ be the number of pennies Bob has after $ n $ rounds. Note this is a fair game in the sense that\n",
    "\n",
    "$E_x(X_1)=0.5(x+1)+0.5(x-1)=x$\n",
    "\n",
    "The expected number he has at the end of the game should be the same as at the begining so:\n",
    "\n",
    "$x=NP_x(V_N<V_0)+0P_x(V_0<V_N)$\n",
    "\n",
    "$P_x(V_N<V_0)=h(x)=x/N$\n",
    "\n",
    "To prove this note that by considering what happens on the first step\n",
    "\n",
    "$h(x)=0.5h(x+1)+0.5h(x-1)$\n",
    "\n",
    "Thus,\n",
    "\n",
    "$h(x+1)-h(x)=h(x)-h(x-1)$\n",
    "\n",
    "It means, $h$ has costant slope and $h(0)=0$ and $h(N)=1$, so $h(x)=x/N$."
   ]
  },
  {
   "cell_type": "markdown",
   "metadata": {},
   "source": [
    "For an example of an unfair game we return to our Gambler's Ruin. Suppose we have a Gambler's Ruin with $ N $ and $ p \\neq 1/2 $. We can consider the probability that starting from $ \\$x $, the gambler reaches $ \\$N $ before going bankrupt. We will let\n",
    "\n",
    "$\n",
    "h(x) = P(V_N < V_0)\n",
    "$\n",
    "\n",
    "and note that $ h(N) = 1 $ and $ h(0) = 0 $. We now consider $ h(x) $ for $ 0 < x < N $."
   ]
  },
  {
   "cell_type": "markdown",
   "metadata": {},
   "source": [
    "$h(x)=p(h(x+1))+(1-p)h(x-1)$\n",
    "\n",
    "$h(x+1)-h(x)=\\frac{1-p}{p}(h(x)-h(x-1))$\n",
    "\n",
    "$c=h(1)-h(0)=h(1)$\n",
    "\n",
    "$h(x+1)-h(x)=c(\\frac{1-p}{p})^{x}$\n",
    "\n",
    "$\\sum_{x=0}^{N-1}(h(x+1)-h(x))=h(N)-h(0)=1$\n",
    "\n",
    "$\\sum_{x=0}^n a^x=\\frac{1-a^{n+1}}{1-a}$\n",
    "\n",
    "$\\theta = \\frac{1-p}{p}$\n",
    "\n",
    "$\\sum_{x=0}^{N-1}(h(x+1)-h(x))=c\\sum_{x=0}^{N-1}(\\frac{1-p}{p})^{x}=c\\cdot\\frac{1-\\theta^N}{1-\\theta} = 1$\n",
    "\n",
    "$c=\\frac{1-\\theta}{1-\\theta^N}$\n",
    "\n",
    "$h(x)-h(0)=c\\cdot\\frac{1-\\theta^x}{1-\\theta}$\n",
    "\n",
    "$h(x)=\\frac{(\\frac{1-p}{p})^x-1}{(\\frac{1-p}{p})^N-1}$\n",
    "\n"
   ]
  },
  {
   "cell_type": "markdown",
   "metadata": {},
   "source": [
    "For an example of an unfair game we return to our Gambler's Ruin. Suppose we have a Gambler's Ruin with $ N $ and $ p \\neq 1/2 $. We can consider the probability that starting from $ \\$x $, the gambler reaches $ \\$N $ before going bankrupt. We will let\n",
    "\n",
    "$\n",
    "h(x) = P(V_N < V_0)\n",
    "$\n",
    "\n",
    "and note that $ h(N) = 1 $ and $ h(0) = 0 $. We now consider $ h(x) $ for $ 0 < x < N $.\n",
    "\n",
    "$\\theta=(1-p)/p=10/9$\n",
    "\n",
    "$h(x=50)=\\frac{(10/9)^{50}-1}{(10/9)^{100}-1}=0.005128$"
   ]
  },
  {
   "cell_type": "markdown",
   "metadata": {},
   "source": [
    "## 1.9 Exit Times\n",
    "\n"
   ]
  },
  {
   "cell_type": "markdown",
   "metadata": {},
   "source": [
    "**Example 1.45. Two year college.** In Example 1.39 we introduced a Markov chain with state space $ 1 = \\text{freshman}, \\, 2 = \\text{ sophomore}, \\, G = \\text{graduate}, \\, D = \\text{dropout}, $ and transition probability\n",
    "\n",
    "$\n",
    "\\begin{array}{ccccc}\n",
    "& 1 & 2 & G & D \\\\\n",
    "1 & 0.25 & 0.6 & 0 & 0.15 \\\\\n",
    "2 & 0 & 0.2 & 0.7 & 0.1 \\\\\n",
    "G & 0 & 0 & 1 & 0 \\\\\n",
    "D & 0 & 0 & 0 & 1 \\\\\n",
    "\\end{array}\n",
    "$\n",
    "\n",
    "On the average how many years does a student take to graduate or drop out?\n",
    "\n",
    "Let $ g(x) $ 表示从状态 $x$ 开始，到达吸收状态（毕业$G$或辍学$D$）的期望时间. $ g(G) = g(D) = 0 $. By considering what happens on one step\n",
    "\n",
    "$\n",
    "g(1) = 1 + 0.25g(1) + 0.6g(2)\n",
    "$\n",
    "\n",
    "$\n",
    "g(2) = 1 + 0.2g(2)\n",
    "$\n",
    "\n",
    "时间加1（因为每一步代表一年）. To solve for $ g $, we note that the second equation implies $ g(2) = 1/0.8 = 1.25 $ and then the first that\n",
    "\n",
    "$\n",
    "g(1) = \\frac{1 + 0.6(1.25)}{0.75} = \\frac{1.75}{0.75} = 2.3333\n",
    "$"
   ]
  },
  {
   "cell_type": "markdown",
   "metadata": {},
   "source": [
    "Given a Markov chain $ X_n $ on a state space $ S $ with one or more absorbing states, we might be interested in the time until $ X_n $ eventually reaches some absorbing state $ a $.\n",
    "\n",
    "We will call this the **exit time**. For now we will consider another example."
   ]
  },
  {
   "cell_type": "markdown",
   "metadata": {},
   "source": [
    "Example: In a game of tennis, the first player to 4 points wins, with the stipulation that one must win by at least 2 point. Suppose a game of tennis is tied 3-3, the serving player wins each point, and successive points are independent. What is the expected time until the game ends?\n",
    "\n",
    "$\\begin{array}{cc|cccc}\n",
    " & 2 & 1 & 0 & -1 & -2 \\\\\n",
    "2 & 1 & 0 & 0 & 0 & 0 \\\\\n",
    "\\hline\n",
    "1 & .6 & 0 & .4 & 0 & 0 \\\\\n",
    "0 & 0 & .6 & 0 & .4 & 0 \\\\\n",
    "-1 & 0 & 0 & .6 & 0 & .4 \\\\\n",
    "\\hline\n",
    "-2 & 0 & 0 & 0 & 0 & 1 \\\\\n",
    "\\end{array}$"
   ]
  },
  {
   "cell_type": "markdown",
   "metadata": {},
   "source": [
    "Same methods"
   ]
  },
  {
   "cell_type": "markdown",
   "metadata": {},
   "source": [
    "### **Theorem 1.28:** \n",
    "\n",
    "Let $ X_n $ be a Markov chain on finite state space $ S $. Let $ A \\subset S $ and $ V_a = \\inf\\{n \\geq 0 : X_n \\in A\\} $. Suppose $ C = S - A $ is finite and $ P_X(V_a < \\infty) > 0 $ for all $ x \\in C $. Let $ g(a) = 0 $ for all $ a \\in A $ and for all $ x $ in $ C $\n",
    "\n",
    "$\n",
    "g(x) = 1 + \\sum_y p(x, y)g(y)\n",
    "$\n",
    "\n",
    "Then $ g(x) = E_X(V_A) $."
   ]
  },
  {
   "cell_type": "markdown",
   "metadata": {},
   "source": [
    "### **Example: Waiting time for TT** \n",
    "\n",
    "Suppose we flip a fair coin repeatedly. Let $T_{TT}$ be the (random) number of flips needed to observe two tails in a row. We want to find $E(T_{TT})$.\n",
    "\n",
    "$\\begin{array}{c|ccc}\n",
    " & 0 & 1 & 2 \\\\\n",
    "\\hline\n",
    "0 & 1/2 & 1/2 & 0 \\\\\n",
    "1 & 1/2 & 0 & 1/2 \\\\\n",
    "2 & 0 & 0 & 1 \\\\\n",
    "\\end{array}$"
   ]
  },
  {
   "cell_type": "markdown",
   "metadata": {},
   "source": [
    "$g(0) = 1 + .5g(0) + .5g(1)$\n",
    "\n",
    "$g(1) = 1 + .5g(0)$\n",
    "\n",
    "$g(0)=6, g(1)=4$\n",
    "\n",
    "$E_0(V_{TT})=6$"
   ]
  },
  {
   "cell_type": "markdown",
   "metadata": {},
   "source": [
    "### Example:\n",
    "\n",
    "Bob, who has 15 pennies, and Charlie, who has 10 pennies, decide to play a game. They each flip a coin. If the two coins match, Bob gets the two pennies (for a profit of 1). If the two coins are different, then Charlie gets the two pennies. They quit when someone has all the pennies. What is the expected time until someone has all the pennies?\n",
    "\n",
    "Let $\\tau = \\min\\{n: X_n \\in \\{0, N\\}\\}$ be the first time someone has all the pennies. We claim\n",
    "\n",
    "$\n",
    "E_x(\\tau) = x(N-x)\n",
    "$\n",
    "\n",
    "**Proof:**\n",
    "\n",
    "**Case 1 fair game: p = 0.5**\n",
    "\n",
    "$g(N)=0$\n",
    "\n",
    "$g(0)=0$\n",
    "\n",
    "$g(x)=1+0.5g(x+1)+0.5g(x-1)$\n",
    "\n",
    "$g(x+1)-g(x)=g(x)-g(x-1)-2$\n",
    "\n",
    "Set $g(1)-g(0)=c=g(1)$\n",
    "\n",
    "$g(2)-g(1)=c-2\\cdot 1$\n",
    "\n",
    "$g(3)-g(2)=c-2\\cdot 2$\n",
    "\n",
    "$\\vdots$\n",
    "\n",
    "$g(x+1)-g(x)=c-2\\cdot x$\n",
    "\n",
    "$\\sum_{x=0}^{N-1}g(x+1)-g(x)=g(N)-g(0)=0$\n",
    "\n",
    "$\\sum_{x=0}^{N-1}g(x+1)-g(x)=\\sum_{x=0}^{N-1} (c-2\\cdot x)=(N)c-2\\cdot\\frac{(N)(N-1)}{2}=0$\n",
    "\n",
    "$c=N-1$\n",
    "\n",
    "$g(x)-g(0)=(x)\\cdot (N-1)-2\\cdot\\frac{(x)(x-1)}{2}$\n",
    "\n",
    "$g(x)=x(N-x)=E_x\\tau$"
   ]
  },
  {
   "cell_type": "markdown",
   "metadata": {},
   "source": [
    "**Case 2 unfair game: p $\\neq$ 0.5**\n",
    "\n",
    "$p+q=1$\n",
    "\n",
    "$g(N)=0$\n",
    "\n",
    "$g(0)=0$\n",
    "\n",
    "$g(x)=1+pg(x+1)+qg(x-1)$\n",
    "\n",
    "$g(x+1)-g(x)=g(x)-g(x-1)-2$\n",
    "\n",
    "$g(x)=\\frac{x}{q-p}- \\frac{N}{q-p} \\left[ \\frac{1-(q/p)^x}{1-(q/p)^N} \\right]= E_x\\tau$\n",
    "\n"
   ]
  },
  {
   "cell_type": "markdown",
   "metadata": {},
   "source": [
    "### Example:\n",
    "\n",
    "For a concrete example of this we can consider roulette. Suppose we bring $50 to a casino with the goal of winning $100 before we go bankrupt. If we bet $1 on red each spin, then \\( p = 18/38 \\) since there are\n",
    "\n",
    "- 18 red spaces\n",
    "- 18 black spaces\n",
    "- 2 green spaces (0 and 00)\n",
    "\n",
    "How long do we expect to play until we reach $100 or go bankrupt?\n",
    "\n",
    "套公式"
   ]
  },
  {
   "cell_type": "markdown",
   "metadata": {},
   "source": [
    "## 1.10 Infinite State Spaces\n",
    "\n",
    "See ppt MATH_497_DiscreteMarkov7_annotated.pdf\n"
   ]
  }
 ],
 "metadata": {
  "kernelspec": {
   "display_name": "base",
   "language": "python",
   "name": "python3"
  },
  "language_info": {
   "codemirror_mode": {
    "name": "ipython",
    "version": 3
   },
   "file_extension": ".py",
   "mimetype": "text/x-python",
   "name": "python",
   "nbconvert_exporter": "python",
   "pygments_lexer": "ipython3",
   "version": "3.12.7"
  }
 },
 "nbformat": 4,
 "nbformat_minor": 2
}

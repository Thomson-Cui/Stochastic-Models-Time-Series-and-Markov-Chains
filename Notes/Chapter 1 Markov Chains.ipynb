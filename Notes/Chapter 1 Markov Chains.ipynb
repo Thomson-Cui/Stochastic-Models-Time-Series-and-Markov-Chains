{
 "cells": [
  {
   "cell_type": "markdown",
   "metadata": {},
   "source": [
    "# Markov Chains\n",
    "\n",
    "## 1.1 Definitions and Examples\n",
    "\n",
    "### Definition\n",
    "\n",
    "$X_{n}$ is a discrete time **Markov chain** with **transition matrix** $p(i,j)$ if for any $j,i,i_{n-1},\\ldots i_{0}$\n",
    "\n",
    "\n",
    "$P(X_{n+1}=j|X_{n}=i,X_{n-1}=i_{n-1},\\ldots,X_{0}=i_{0})=p(i,j)\\quad(1.1)$"
   ]
  },
  {
   "cell_type": "markdown",
   "metadata": {},
   "source": [
    "One more commonly describes a Markov chain by writing down a transition probability $p(i,j)$ with\n",
    "\n",
    "(i) $p(i,j) \\geq 0$, since they are probabilities.\n",
    "\n",
    "(ii) $\\sum_j p(i,j) = 1$, since when $X_n = i$, $X_{n+1}$ will be in some state $j$."
   ]
  },
  {
   "cell_type": "markdown",
   "metadata": {},
   "source": [
    "## 1.2 Multistep Transition Probabilities\n",
    "\n",
    "### Theorem 1.1.\n",
    "\n",
    "The $m$ step transition probability $P(X_{n+m}=j|X_n=i)$ is the $m$-th power of the transition matrix $p$.\n",
    "\n",
    "$p^m(i,j) = P(X_{n+m} = j | X_n = i)$"
   ]
  },
  {
   "cell_type": "markdown",
   "metadata": {},
   "source": [
    "### The Chapman–Kolmogorov equation:\n",
    "\n",
    "$p^{m+n}(i,j) = \\sum_k p^m(i,k) p^n(k,j)\\quad(1.2)$\n",
    "\n",
    "*Proof of (1.2):*\n",
    "\n",
    "Breaking things down according to the state at time m,\n",
    "\n",
    "$\\begin{aligned}\n",
    "p^{m+n}(i,j) \n",
    "&= P(X_{m+n}=j|X_0=i) \\\\\n",
    "&= \\sum_k P(X_{m+n}=j, X_m=k|X_0=i) \\\\\n",
    "&= \\sum_k \\frac{P(X_{m+n}=j, X_m=k, X_0=i)}{P(X_0=i)} \\\\\n",
    "&= \\sum_k \\frac{P(X_{m+n}=j, X_m=k, X_0=i)}{P(X_m=k, X_0=i)} \\cdot \\frac{P(X_m=k, X_0=i)}{P(X_0=i)} \\\\\n",
    "&= \\sum_k P(X_{m+n}=j|X_m=k, X_0=i) \\cdot P(X_m=k|X_0=i) \\\\\n",
    "&= \\sum_k P(X_{m+n}=j|X_m=k) \\cdot P(X_m=k|X_0=i) \\\\\n",
    "&= \\sum_k p^m(i,k) p^n(k,j)\n",
    "\\end{aligned}$"
   ]
  },
  {
   "cell_type": "markdown",
   "metadata": {},
   "source": [
    "## 1.3 Classification of States\n",
    "\n",
    "We are often interested in the behavior of the chain for a fixed initial state, so we will introduce the shorthand\n",
    "\n",
    "$P_x(A) = P(A | X_0 = x)$\n",
    "\n",
    "### Stopping Times\n",
    "\n",
    "The stopping time $ T_y $ represents the first return to state $ y $ after time 0, meaning the process must reach $ y $ for the first time at some $ n \\geq 1 $. Formally,  \n",
    "\n",
    "$\n",
    "T_y = \\min\\{n \\geq 1 : X_n = y\\}\n",
    "$  \n",
    "\n",
    "Equivalently, the event that $ T_y = n $ can be written as:  \n",
    "\n",
    "$\n",
    "\\{T_y = n\\} = \\{X_1 \\neq y, \\ldots, X_{n-1} \\neq y, X_n = y\\}\n",
    "$  \n",
    "\n",
    "That is, the process avoids $ y $ for the first $ n-1 $ steps and reaches $ y $ at time $ n $. This event can also be expressed as:  \n",
    "\n",
    "$\n",
    "\\{X_T = y, T = n\\}\n",
    "$  \n",
    "\n",
    "Since the occurrence of $ \\{X_T = y, T = n\\} $ depends only on the values of the process up to time $ n $, i.e., $ X_0, X_1, \\dots, X_n $, $ T_y $ satisfies the definition of a stopping time."
   ]
  },
  {
   "cell_type": "markdown",
   "metadata": {},
   "source": [
    "### Theorem 1.2. Strong Markov property\n",
    "\n",
    "Suppose $T$ is a stopping time. Given that $ T = n $ and $ X_T = y $, any other information about $ X_0, \\ldots, X_T $ is irrelevant for predicting the future, and $ X_{T+k}, k \\geq 0 $ behaves like the Markov chain with initial state $ y $.\n",
    "\n",
    "$P(X_{T+1} = z | X_T = y, T = n) = p(y, z)$\n",
    "\n",
    "Let $ V_n $ be the set of vectors $(x_0, \\ldots, x_n)$ so that if $ X_0 = x_0, \\ldots, X_n = x_n $, then $ T = n $ and $ X_T = y $. Breaking things down according to the values of $ X_0, \\ldots, X_n $ gives\n",
    "\n",
    "$V_n = \\{ (x_0, x_1, \\dots, x_n) \\mid X_0 = x_0, X_1 = x_1, \\dots, X_n = x_n \\Rightarrow T = n, X_T = y\\}$\n",
    "\n",
    "$\\Rightarrow P(T = n, X_T = y) = \\sum_{x \\in V_n} P(X_n = x_n, \\dots, X_0 = x_0)$"
   ]
  },
  {
   "cell_type": "markdown",
   "metadata": {},
   "source": [
    "$\\begin{aligned}\n",
    "P(X_{T+1} = z, X_T = y, T = n) \n",
    "&= \\sum_{x \\in V_n} P(X_{n+1} = z, X_n = x_n, \\ldots, X_0 = x_0) \\\\\n",
    "&= \\sum_{x \\in V_n} P(X_{n+1} = z | X_n = x_n, \\ldots, X_0 = x_0) P(X_n = x_n, \\ldots, X_0 = x_0)\\\\\n",
    "&= p(y, z) \\sum_{x \\in V_n} P(X_n = x_n, \\ldots, X_0 = x_0) \\\\\n",
    "&= p(y, z) P(T = n, X_T = y)\n",
    "\\end{aligned}$"
   ]
  },
  {
   "cell_type": "markdown",
   "metadata": {},
   "source": [
    "Dividing both sides by $P(T = n, X_T = y)$ gives the desired result.\n",
    "\n",
    "Therefore, $P(X_{T+1} = z | X_T = y, T = n) = p(y, z)$."
   ]
  },
  {
   "cell_type": "markdown",
   "metadata": {},
   "source": [
    "Let $p_{yy}=P_y(T_y<\\infty)$ be the probability $X_n$ returns to $y$ when it starts at $y$, and $T_y = \\min\\{n \\geq 1 : X_n = y\\}$.\n",
    "- $p_{yy}=1$, if we don't exclude $n=0 \\Rightarrow T_y = \\min\\{n \\geq 0 : X_n = y\\}$.\n",
    "\n",
    "Let $T_y^1=T_y$ be the time of the first return to $y$, then the time of the $k$-th return to $y$:\n",
    "\n",
    "$T_{y}^{k} = \\min\\{n > T_{y}^{k-1} : X_n = y\\} \\quad (1.3)$ \n",
    "\n",
    "$P_y(T^k_y < \\infty) = p_{yy}^k \\quad (1.4)$\n",
    "\n",
    "(i) $p_{yy} < 1$: The probability of returning $k$ times is $p_{yy}^k \\to 0$ as $k \\to \\infty$. Thus, eventually the Markov chain does not find its way back to $y$. In this case the state $y$ is called **transient**, since after some point it is never visited by the Markov chain.\n",
    "\n",
    "$\\Leftrightarrow P_y(T_y = \\infty)>0\\Leftrightarrow 1-p_{yy}>0$\n",
    "\n",
    "(ii) $p_{yy} = 1$: The probability of returning $k$ times $p_{yy}^k = 1$, so the chain returns to $y$ infinitely many times. In this case, the state $y$ is called **recurrent**, it continually recurs in the Markov chain.\n",
    "\n",
    "$\\Leftrightarrow P_y(T_y = \\infty)=0\\Leftrightarrow 1-p_{yy}=0$"
   ]
  },
  {
   "cell_type": "markdown",
   "metadata": {},
   "source": [
    "### Lemma 1.3.\n",
    "\n",
    "Suppose $ P_x(T_y \\leq k) \\geq \\alpha > 0 $ for all $ x $ in the state space $ S $. Then  \n",
    "\n",
    "$\n",
    "P_x(T_y > nk) \\leq (1 - \\alpha)^n \\to 0 \\text{ as }n\\to\\infty\n",
    "$\n",
    "\n",
    "$\n",
    "P_x(T_y \\leq nk) \\leq 1 - (1 - \\alpha)^n \\to 1 \\text{ as }n\\to\\infty\n",
    "$\n",
    "\n",
    "- $X_0 = x$\n",
    "- $ k $ is a fixed number of steps.  \n",
    "- $ n $ represents how many such $ k $-step blocks we consider.  \n",
    "- $ nk $ is the total number of steps we analyze.  \n",
    "- $ P_x(T_y \\leq k) \\geq \\alpha > 0 \\Rightarrow P_x(T_y > k) \\geq (1-\\alpha)$\n",
    "- $ T_y = \\min\\{ n \\geq 1 : X_n = y \\} $ is the first time the Markov chain reaches state $ y $.  \n",
    "- $ P_x(T_y \\leq k) $ is the probability that the chain reaches $ y $ within at most $ k $ steps, starting from $ x $.  \n",
    "- The assumption $ P_x(T_y \\leq k) \\geq \\alpha > 0 $ means that **from any state $ x $, there is at least a fixed probability $ \\alpha $ of reaching $ y $ within $ k $ steps**.  \n",
    "- $ P_x(T_y > nk) $ is the probability that the chain **has not reached $ y $ after $ nk $ steps**.  "
   ]
  },
  {
   "cell_type": "markdown",
   "metadata": {},
   "source": [
    "### Definition 1.1.\n",
    "\n",
    "We say that $ x $ **communicates with** $ y $ and write $ x \\to y $ if there is a positive probability of reaching $ y $ starting from $ x $, that is, the probability  \n",
    "\n",
    "$\n",
    "p_{xy} = P_x(T_y < \\infty) > 0\n",
    "$"
   ]
  },
  {
   "cell_type": "markdown",
   "metadata": {},
   "source": [
    "### Lemma 1.4. \n",
    "If $x\\to y$ and $y\\to z$, then $x\\to z$.\n",
    "\n",
    "**Proof:**\n",
    "\n",
    "Since $x\\to y$ with $m$ steps, $p^m(x,y)>0$.\n",
    "\n",
    "Similarly, $y\\to z$ with $n$ steps, $p^n(y,z)>0$.\n",
    "\n",
    "According to the Chapman–Kolmogorov equation:\n",
    "\n",
    "$p^{m+n}(i,j) = \\sum_k p^m(i,k) p^n(k,j)\\quad(1.2)$\n",
    "\n",
    "Thus, $p^{m+n}(x,z)=\\sum_k p^m(x,k) p^n(k,z)\\geq p^m(x,y)\\cdot p^n(y,z)>0$.\n",
    "\n",
    "Therefore, $p_{xz}>0$, that is to say: $x\\to z$."
   ]
  },
  {
   "cell_type": "markdown",
   "metadata": {},
   "source": [
    "### Theorem 1.5.\n",
    "\n",
    "If $p_{xy}>0$, but $p_{yx}<1$, then $x$ is transient.\n",
    "\n",
    "**Proof:**\n",
    "\n",
    "Let $K=\\min\\{k:p^k(x,y)>0\\}$ be the smallest number of steps we can take to get from $x$ to $y$. Since $p^k(x,y)>0$ there must be a sequence $y_1,...,y_{k-1}$ so that\n",
    "\n",
    "$p(x, y_1) p(y_1, y_2) \\cdots p(y_{k-1}, y) > 0$\n",
    "\n",
    "Since $k$ is minimal all the $y_i\\neq x$ (or there would be a shorter path), and we have\n",
    "\n",
    "$P_x(T_x = \\infty) \\geq p(x, y_1) p(y_1, y_2) \\cdots p(y_{k-1}, y) (1 - p_{yx}) > 0$\n",
    "\n",
    "so $x$ is transient."
   ]
  },
  {
   "cell_type": "markdown",
   "metadata": {},
   "source": [
    "### Lemma 1.6.\n",
    "\n",
    "If $x$ is recurrent and $p_{xy} > 0$, then $p_{yx} = 1$.\n",
    "\n",
    "### Proof:\n",
    "\n",
    "$x$ is recurrent, so $P_x(T_x = \\infty)=0$.\n",
    "\n",
    "$P_x(T_x = \\infty) \\geq p(x, y_1) p(y_1, y_2) \\cdots p(y_{k-1}, y) (1 - p_{yx})$\n",
    "\n",
    "Since $p(x, y_1) p(y_1, y_2) \\cdots p(y_{k-1}, y) > 0$, then\n",
    "\n",
    "$0 \\geq p(x, y_1) p(y_1, y_2) \\cdots p(y_{k-1}, y) (1 - p_{yx})$\n",
    "\n",
    "$\\Rightarrow (1 - p_{yx})\\leq 0$\n",
    "\n",
    "$\\Rightarrow p_{yx}\\geq 1$\n",
    "\n",
    "$\\Rightarrow p_{yx} = 1$"
   ]
  },
  {
   "cell_type": "markdown",
   "metadata": {},
   "source": [
    "### Theorem 1.7. \n",
    "If $C$ is a finite **closed and irreducible** set, then all states in $C$ are **recurrent**.\n",
    "- A set $A$ is **closed** if it is impossible to get out, i.e., if $i \\in A$ and $j \\notin A$ then $p(i,j)=0$.\n",
    "    - In following example 1.14: $\\{1,5\\}$,$\\{4,6,7\\}$,$\\{1,4,5,6,7\\}$,$\\{1,3,4,5,6,7\\}$,$\\{1,2,3,4,5,6,7\\}$ are closed sets, but these are too big!\n",
    "- A set $B$ is called **irreducible** if whenever $i,j\\in B, i$ communicates with $j$.\n",
    "    - In following example 1.14: $\\{1,5\\}$ and $\\{4,5,7\\}$ are irreducible closed sets.\n",
    "\n",
    "- Therefore, A set $ C $ is **closed and irreducible** if it satisfies the following conditions:\n",
    "    - For all $ i \\in C $ and $ j \\in S \\setminus C $, we have $ p(i, j) = 0 $ (closedness).\n",
    "    - For all $ i, j \\in C $, there exists a number $ k $ such that $ p^k(i, j) > 0 $ (irreducibility)."
   ]
  },
  {
   "cell_type": "markdown",
   "metadata": {},
   "source": [
    "**Proof:** To prove theorem 1.7, it is sufficient to prove the following two statements:\n",
    "1. (Lemma 1.9) If $x$ is recurrent and $x \\to y$ then $y$ is recurrent\n",
    "2. (Lemma 1.10) A finite closed set contains at least one recurrent state"
   ]
  },
  {
   "cell_type": "markdown",
   "metadata": {},
   "source": [
    "**Example 1.14 (A Seven-State Chain).** Consider the transition probability:\n",
    "\n",
    "$\n",
    "\\begin{array}{cccccc}\n",
    "  & 1 & 2 & 3 & 4 & 5 & 6 & 7 \\\\\n",
    "1 & .7 & 0 & 0 & 0 & .3 & 0 & 0 \\\\\n",
    "2 & .1 & .2 & .3 & .4 & 0 & 0 & 0 \\\\\n",
    "3 & 0 & 0 & .5 & .3 & .2 & 0 & 0 \\\\\n",
    "4 & 0 & 0 & 0 & .5 & 0 & .5 & 0 \\\\\n",
    "5 & .6 & 0 & 0 & 0 & .4 & 0 & 0 \\\\\n",
    "6 & 0 & 0 & 0 & 0 & 0 & .2 & .8 \\\\\n",
    "7 & 0 & 0 & 0 & 1 & 0 & 0 & 0\n",
    "\\end{array}\n",
    "$"
   ]
  },
  {
   "cell_type": "code",
   "execution_count": 6,
   "metadata": {},
   "outputs": [
    {
     "data": {
      "image/png": "[encoded data removed]",
      "text/plain": [
       "<IPython.core.display.Image object>"
      ]
     },
     "execution_count": 6,
     "metadata": {},
     "output_type": "execute_result"
    }
   ],
   "source": [
    "from IPython.display import Image\n",
    "Image(filename=\"..\\\\images\\\\Theorem 1.7.png\")"
   ]
  },
  {
   "cell_type": "markdown",
   "metadata": {},
   "source": [
    "### Theorem 1.8.\n",
    "\n",
    "If the state space $ S $ is finite, then $ S $ can be written as a disjoint union $ T \\cup R_1 \\cup \\cdots \\cup R_k $, where $ T $ is a set of transient states and the $ R_i $, $ 1 \\leq i \\leq k $, are closed irreducible sets of recurrent states."
   ]
  },
  {
   "cell_type": "markdown",
   "metadata": {},
   "source": [
    "### Lemma 1.9. \n",
    "\n",
    "If $x$ is recurrent and $x \\to y$, then $y$ is recurrent. (Similarly with Lemma 1.6.)"
   ]
  },
  {
   "cell_type": "markdown",
   "metadata": {},
   "source": [
    "### Lemma 1.10.\n",
    "\n",
    "In a finite closed set there has to be at least one recurrent state."
   ]
  },
  {
   "cell_type": "markdown",
   "metadata": {},
   "source": [
    "### Lemma 1.11.\n",
    "\n",
    "Let $N(y)$ be the number of visits to $y$ at times $n \\geq 1$, then $E_x N(y) = \\rho_{xy} / (1 - \\rho_{yy})$\n",
    "- $P_x(T_y^k < \\infty) = \\rho_{xy}\\rho_{yy}^{k-1}.\\quad(1.5)$\n",
    "- Using (1.5) we can compute $E_x N(y)$.\n",
    "\n",
    "### Proof.\n",
    "\n",
    "$EX = \\sum_{k=1}^{\\infty} P(X \\geq k) \\quad(1.6)$\n",
    "\n",
    "Let $1_{\\{X\\geq k\\}}\\sim Bernoulli(p)$, where $p=P(X\\geq k)$, denote the random variable that is $1$ if $X\\geq k$ and 0 otherwise, thus\n",
    "\n",
    "$X=\\sum_{k=1}^\\infty 1_{\\{X\\geq k\\}}$\n",
    "\n",
    "$E(1_{\\{X\\geq k\\}})=P(X\\geq k)$\n",
    "\n",
    "Therefore, we proved (1.6): $EX = \\sum_{k=1}^{\\infty} P(X \\geq k)$.\n",
    "\n",
    "The Probability of returning at least $k$ times, $\\{N(y)\\geq k\\}$, is same as the event that the $k$-th return occurs, i.e., $\\{T_y^k<\\infty\\}$, thus\n",
    "\n",
    "$P_x(N(y)\\geq k)=P_x(T_y^k<\\infty)$"
   ]
  },
  {
   "cell_type": "markdown",
   "metadata": {},
   "source": [
    "$\\begin{aligned}\n",
    "E_xN(y)\n",
    "&=\\sum_{k=1}^\\infty P_x(N(y)\\geq k)\\\\\n",
    "&=\\sum_{k=1}^\\infty P_x(T_y^k<\\infty)\\\\\n",
    "&=\\sum_{k=1}^\\infty p_{xy}p_{yy}^{k-1}\\\\\n",
    "&=p_{xy}\\sum_{k=1}^\\infty p_{yy}^{k-1},\\quad(\\sum_{n=0}^\\infty\\theta^n=1/(1-\\theta))\\\\\n",
    "&=\\frac{p_{xy}}{1-p_{yy}}\n",
    "\\end{aligned}$"
   ]
  },
  {
   "cell_type": "markdown",
   "metadata": {},
   "source": [
    "### Lemma 1.12\n"
   ]
  },
  {
   "cell_type": "markdown",
   "metadata": {},
   "source": []
  }
 ],
 "metadata": {
  "kernelspec": {
   "display_name": "base",
   "language": "python",
   "name": "python3"
  },
  "language_info": {
   "codemirror_mode": {
    "name": "ipython",
    "version": 3
   },
   "file_extension": ".py",
   "mimetype": "text/x-python",
   "name": "python",
   "nbconvert_exporter": "python",
   "pygments_lexer": "ipython3",
   "version": "3.12.7"
  }
 },
 "nbformat": 4,
 "nbformat_minor": 2
}
